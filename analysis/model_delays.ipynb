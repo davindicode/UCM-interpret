{
 "cells": [
  {
   "attachments": {},
   "cell_type": "markdown",
   "metadata": {},
   "source": [
    "# Compare models with diff delays"
   ]
  },
  {
   "cell_type": "code",
   "execution_count": 1,
   "metadata": {},
   "outputs": [
    {
     "name": "stdout",
     "output_type": "stream",
     "text": [
      "PyTorch version: 1.13.1+cu117\n",
      "Using device: cuda:0\n"
     ]
    }
   ],
   "source": [
    "import numpy as np\n",
    "import scipy as sc\n",
    "\n",
    "import torch\n",
    "import torch.nn as nn\n",
    "from torch.nn.parameter import Parameter\n",
    "import torch.nn.functional as F\n",
    "import torch.optim as optim\n",
    "\n",
    "\n",
    "# add paths to access shared code\n",
    "import sys\n",
    "sys.path.append(\"..\")\n",
    "sys.path.append(\"../scripts/\")\n",
    "\n",
    "# import library implementing models\n",
    "import neuroprob as nprb\n",
    "from neuroprob import utils\n",
    "\n",
    "# import utility code for model building/training/loading\n",
    "import lib\n",
    "import HDC\n",
    "\n",
    "# get GPU device if available\n",
    "gpu_dev = 0\n",
    "dev = utils.pytorch.get_device(gpu=gpu_dev)\n",
    "\n",
    "# use custom plotting settings\n",
    "import matplotlib.pyplot as plt\n",
    "\n",
    "# useful colormap\n",
    "white = '#ffffff'\n",
    "red = '#ff0000'\n",
    "blue = '#0000ff'\n",
    "weight_map = utils.plot.make_cmap([blue, white, red], 'weight_map')\n",
    "\n",
    "\n",
    "import warnings\n",
    "warnings.simplefilter('ignore')"
   ]
  },
  {
   "cell_type": "code",
   "execution_count": 4,
   "metadata": {},
   "outputs": [
    {
     "name": "stdout",
     "output_type": "stream",
     "text": [
      "units:  85  hdc units:  22\n"
     ]
    }
   ],
   "source": [
    "mouse_id = 'Mouse12'\n",
    "session_id = '120806'\n",
    "phase = 'wake'\n",
    "subset = 'hdc'\n",
    "\n",
    "bin_size = 160  # ms\n",
    "single_spikes = False\n",
    "\n",
    "delay = [-3, -2, -1, 1, 2, 3]\n",
    "batch_size = 1000  # size of time segments of each batch in dataset below\n",
    "cv_run = -1\n",
    "\n",
    "\n",
    "checkpoint_dir = '/scratches/ramanujan_2/vn283/HDC_PartIII/checkpoint/'\n",
    "data_dir = '/scratches/ramanujan_2/vn283/HDC_PartIII/preprocessed/'\n",
    "\n",
    "\n",
    "dataset_dict = HDC.get_dataset(mouse_id, session_id, phase, subset, bin_size, \n",
    "                                               single_spikes, path=data_dir)\n",
    "\n",
    "model_dict = {\n",
    "                'seed': 123, \n",
    "                'll_mode': 'U-ec-3',  # stands for universal count model with exponential-quadratic expansion and C = 3\n",
    "                'filt_mode': '',  # GLM couplings\n",
    "                'map_mode': 'svgp-64',  # a sparse variational GP mapping with 64 inducing points\n",
    "                'x_mode': 'hd-omega-speed-x-y-time',  # observed covariates (behaviour)\n",
    "                'z_mode': '',  # latent covariates\n",
    "                'hist_len': 0, \n",
    "                'folds': 5, \n",
    "                'delays': [-3, -2, -1, 1, 2, 3], \n",
    "                'neurons': dataset_dict['neurons'], \n",
    "                'max_count': dataset_dict['max_count'], \n",
    "                'bin_size': dataset_dict['bin_size'], \n",
    "                'tbin': dataset_dict['tbin'], \n",
    "                'model_name': dataset_dict['name'], \n",
    "                'tensor_type': torch.float, \n",
    "                'jitter': 1e-4, \n",
    "            }   "
   ]
  },
  {
   "cell_type": "code",
   "execution_count": 5,
   "metadata": {},
   "outputs": [
    {
     "ename": "TypeError",
     "evalue": "'>' not supported between instances of 'list' and 'int'",
     "output_type": "error",
     "traceback": [
      "\u001b[0;31m---------------------------------------------------------------------------\u001b[0m",
      "\u001b[0;31mTypeError\u001b[0m                                 Traceback (most recent call last)",
      "Cell \u001b[0;32mIn[5], line 4\u001b[0m\n\u001b[1;32m      1\u001b[0m model_dict[\u001b[39m'\u001b[39m\u001b[39mll_mode\u001b[39m\u001b[39m'\u001b[39m] \u001b[39m=\u001b[39m \u001b[39m'\u001b[39m\u001b[39mU-ec-2\u001b[39m\u001b[39m'\u001b[39m\n\u001b[1;32m      2\u001b[0m cv_run \u001b[39m=\u001b[39m \u001b[39m-\u001b[39m\u001b[39m1\u001b[39m\n\u001b[0;32m----> 4\u001b[0m modelfit, training_results, fit_set, validation_set \u001b[39m=\u001b[39m lib\u001b[39m.\u001b[39;49mmodels\u001b[39m.\u001b[39;49mload_model(\n\u001b[1;32m      5\u001b[0m     checkpoint_dir, model_dict, dataset_dict, HDC\u001b[39m.\u001b[39;49menc_used, \n\u001b[1;32m      6\u001b[0m     delay, cv_run, batch_size, gpu_dev)\n",
      "File \u001b[0;32m~/UCM-interpret/.vscode/../scripts/lib/models.py:716\u001b[0m, in \u001b[0;36mload_model\u001b[0;34m(checkpoint_dir, model_dict, dataset_dict, enc_used, delay, cv_run, batch_info, gpu, trial_sizes)\u001b[0m\n\u001b[1;32m    714\u001b[0m \u001b[39m### data ###\u001b[39;00m\n\u001b[1;32m    715\u001b[0m has_latent \u001b[39m=\u001b[39m \u001b[39mFalse\u001b[39;00m \u001b[39mif\u001b[39;00m model_dict[\u001b[39m'\u001b[39m\u001b[39mz_mode\u001b[39m\u001b[39m'\u001b[39m] \u001b[39m==\u001b[39m \u001b[39m'\u001b[39m\u001b[39m'\u001b[39m \u001b[39melse\u001b[39;00m \u001b[39mTrue\u001b[39;00m\n\u001b[0;32m--> 716\u001b[0m cvdata \u001b[39m=\u001b[39m preprocess_data(dataset_dict, model_dict[\u001b[39m'\u001b[39;49m\u001b[39mfolds\u001b[39;49m\u001b[39m'\u001b[39;49m], [delay], [cv_run], \n\u001b[1;32m    717\u001b[0m                          batch_info, model_dict[\u001b[39m'\u001b[39;49m\u001b[39mhist_len\u001b[39;49m\u001b[39m'\u001b[39;49m], has_latent, trial_sizes)[\u001b[39m0\u001b[39m]\n\u001b[1;32m    719\u001b[0m fit_data \u001b[39m=\u001b[39m (\n\u001b[1;32m    720\u001b[0m     cvdata[\u001b[39m'\u001b[39m\u001b[39mspiketrain_fit\u001b[39m\u001b[39m'\u001b[39m], \n\u001b[1;32m    721\u001b[0m     cvdata[\u001b[39m'\u001b[39m\u001b[39mcovariates_fit\u001b[39m\u001b[39m'\u001b[39m], \n\u001b[1;32m    722\u001b[0m     cvdata[\u001b[39m'\u001b[39m\u001b[39mbatching_info_fit\u001b[39m\u001b[39m'\u001b[39m], \n\u001b[1;32m    723\u001b[0m )\n\u001b[1;32m    724\u001b[0m val_data \u001b[39m=\u001b[39m (\n\u001b[1;32m    725\u001b[0m     cvdata[\u001b[39m'\u001b[39m\u001b[39mspiketrain_val\u001b[39m\u001b[39m'\u001b[39m], \n\u001b[1;32m    726\u001b[0m     cvdata[\u001b[39m'\u001b[39m\u001b[39mcovariates_val\u001b[39m\u001b[39m'\u001b[39m], \n\u001b[1;32m    727\u001b[0m     cvdata[\u001b[39m'\u001b[39m\u001b[39mbatching_info_val\u001b[39m\u001b[39m'\u001b[39m], \n\u001b[1;32m    728\u001b[0m )\n",
      "File \u001b[0;32m~/UCM-interpret/.vscode/../scripts/lib/models.py:457\u001b[0m, in \u001b[0;36mpreprocess_data\u001b[0;34m(dataset_dict, folds, delays, cv_runs, batchsize, hist_len, has_latent, trial_sizes)\u001b[0m\n\u001b[1;32m    454\u001b[0m         \u001b[39mraise\u001b[39;00m \u001b[39mValueError\u001b[39;00m(\u001b[39m'\u001b[39m\u001b[39mCoupling filter not supported in appended trials\u001b[39m\u001b[39m'\u001b[39m)\n\u001b[1;32m    456\u001b[0m \u001b[39mif\u001b[39;00m delays \u001b[39m!=\u001b[39m [\u001b[39m0\u001b[39m]:\n\u001b[0;32m--> 457\u001b[0m     \u001b[39mif\u001b[39;00m \u001b[39mmin\u001b[39;49m(delays) \u001b[39m>\u001b[39;49m \u001b[39m0\u001b[39;49m:\n\u001b[1;32m    458\u001b[0m         \u001b[39mraise\u001b[39;00m \u001b[39mValueError\u001b[39;00m(\u001b[39m'\u001b[39m\u001b[39mDelay minimum must be 0 or less\u001b[39m\u001b[39m'\u001b[39m)\n\u001b[1;32m    459\u001b[0m     \u001b[39mif\u001b[39;00m \u001b[39mmax\u001b[39m(delays) \u001b[39m<\u001b[39m \u001b[39m0\u001b[39m:\n",
      "\u001b[0;31mTypeError\u001b[0m: '>' not supported between instances of 'list' and 'int'"
     ]
    }
   ],
   "source": [
    "model_dict['ll_mode'] = 'U-ec-2'\n",
    "cv_run = -1\n",
    "\n",
    "modelfit, training_results, fit_set, validation_set = lib.models.load_model(\n",
    "    checkpoint_dir, model_dict, dataset_dict, HDC.enc_used, \n",
    "    delay, cv_run, batch_size, gpu_dev)"
   ]
  }
 ],
 "metadata": {
  "kernelspec": {
   "display_name": "py3_9env",
   "language": "python",
   "name": "python3"
  },
  "language_info": {
   "codemirror_mode": {
    "name": "ipython",
    "version": 3
   },
   "file_extension": ".py",
   "mimetype": "text/x-python",
   "name": "python",
   "nbconvert_exporter": "python",
   "pygments_lexer": "ipython3",
   "version": "3.9.16"
  },
  "orig_nbformat": 4,
  "vscode": {
   "interpreter": {
    "hash": "03b42b607d427ab01b77ba221b71d39d3ac7012b8dc8f3f3d33b6b75bb4ead96"
   }
  }
 },
 "nbformat": 4,
 "nbformat_minor": 2
}

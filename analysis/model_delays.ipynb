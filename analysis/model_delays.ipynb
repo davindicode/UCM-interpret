{
 "cells": [
  {
   "attachments": {},
   "cell_type": "markdown",
   "metadata": {},
   "source": [
    "# Compare models with diff delays"
   ]
  },
  {
   "cell_type": "code",
   "execution_count": 1,
   "metadata": {},
   "outputs": [
    {
     "name": "stdout",
     "output_type": "stream",
     "text": [
      "PyTorch version: 1.13.1+cu117\n",
      "Using device: cuda:0\n"
     ]
    }
   ],
   "source": [
    "import numpy as np\n",
    "import scipy as sc\n",
    "\n",
    "import torch\n",
    "import torch.nn as nn\n",
    "from torch.nn.parameter import Parameter\n",
    "import torch.nn.functional as F\n",
    "import torch.optim as optim\n",
    "\n",
    "\n",
    "# add paths to access shared code\n",
    "import sys\n",
    "sys.path.append(\"..\")\n",
    "sys.path.append(\"../scripts/\")\n",
    "\n",
    "# import library implementing models\n",
    "import neuroprob as nprb\n",
    "from neuroprob import utils\n",
    "\n",
    "# import utility code for model building/training/loading\n",
    "import lib\n",
    "import HDC\n",
    "\n",
    "# get GPU device if available\n",
    "gpu_dev = 0\n",
    "dev = utils.pytorch.get_device(gpu=gpu_dev)\n",
    "\n",
    "# use custom plotting settings\n",
    "import matplotlib.pyplot as plt\n",
    "\n",
    "# useful colormap\n",
    "white = '#ffffff'\n",
    "red = '#ff0000'\n",
    "blue = '#0000ff'\n",
    "weight_map = utils.plot.make_cmap([blue, white, red], 'weight_map')\n",
    "\n",
    "\n",
    "import warnings\n",
    "warnings.simplefilter('ignore')"
   ]
  },
  {
   "cell_type": "code",
   "execution_count": 24,
   "metadata": {},
   "outputs": [],
   "source": [
    "mouse_id = 'Mouse12'\n",
    "session_id = '120806'\n",
    "phase = 'wake'\n",
    "subset = 'hdc'\n",
    "\n",
    "bin_size = 160  # ms\n",
    "single_spikes = False\n",
    "\n",
    "delay = -1\n",
    "batch_size = 1000  # size of time segments of each batch in dataset below\n",
    "cv_run = -1\n",
    "\n",
    "\n",
    "checkpoint_dir = '/scratches/ramanujan_2/vn283/HDC_PartIII/checkpoint/'\n",
    "data_dir = '/scratches/ramanujan_2/vn283/HDC_PartIII/preprocessed/' "
   ]
  },
  {
   "cell_type": "code",
   "execution_count": 25,
   "metadata": {},
   "outputs": [
    {
     "name": "stdout",
     "output_type": "stream",
     "text": [
      "units:  85  hdc units:  22\n"
     ]
    }
   ],
   "source": [
    "dataset_dict = HDC.get_dataset(mouse_id, session_id, phase, subset, bin_size, \n",
    "                                               single_spikes, path=data_dir)"
   ]
  },
  {
   "cell_type": "code",
   "execution_count": 33,
   "metadata": {},
   "outputs": [],
   "source": [
    "model_dict = {\n",
    "                'seed': 123, \n",
    "                'll_mode': 'U-eq-2',  # stands for universal count model with exponential-quadratic expansion and C = 3\n",
    "                'filt_mode': '',  # GLM couplings\n",
    "                'map_mode': 'svgp-64',  # a sparse variational GP mapping with 64 inducing points\n",
    "                'x_mode': 'hd-omega-speed-x-y-time',  # observed covariates (behaviour)\n",
    "                'z_mode': '',  # latent covariates\n",
    "                'hist_len': 0, \n",
    "                'folds': 5, \n",
    "                'delays': [-3, -2, -1, 1, 2, 3], \n",
    "                'neurons': dataset_dict['neurons'], \n",
    "                'max_count': dataset_dict['max_count'], \n",
    "                'bin_size': dataset_dict['bin_size'], \n",
    "                'tbin': dataset_dict['tbin'], \n",
    "                'model_name': dataset_dict['name'], \n",
    "                'tensor_type': torch.float, \n",
    "                'jitter': 1e-4, \n",
    "            }  \n",
    "\n",
    "modelfit, training_results, fit_set, validation_set = lib.models.load_model(\n",
    "    checkpoint_dir, model_dict, dataset_dict, HDC.enc_used, \n",
    "    delay, cv_run, batch_size, gpu_dev)"
   ]
  },
  {
   "cell_type": "code",
   "execution_count": 27,
   "metadata": {},
   "outputs": [],
   "source": [
    "units_used = dataset_dict['neurons']\n",
    "\n",
    "rcov = np.empty((0, dataset_dict['covariates']['hd'].shape[0]))\n",
    "\n",
    "for cov in ['hd', 'omega', 'speed', 'x', 'y', 'time']:\n",
    "    rcov = np.concatenate((rcov, dataset_dict['covariates'][cov][None, :]), axis=0)\n",
    " \n",
    "\n",
    "hd_sweep = torch.linspace(0, 2*np.pi, 100)\n",
    "\n",
    "covariates = torch.cat([\n",
    "    hd_sweep[:, None],  # sweep over head direction\n",
    "    *[rcov[k].mean()*torch.ones((100, 1)) for k in range(1, len(rcov))], \n",
    "    # fill other behavioural covariates at value 0\n",
    "], dim=-1)[None, None, ...]  # (tr, neurons, steps, covariate dims)\n",
    "\n",
    "with torch.no_grad():\n",
    "    P_mc = lib.helper.compute_P(\n",
    "        modelfit, covariates, list(range(units_used)), MC=30, trials=1)  # predictive posterior\n",
    "P_mc = P_mc.cpu()  # count probabilities of shape (MC, neurons, steps, count)"
   ]
  },
  {
   "cell_type": "code",
   "execution_count": 28,
   "metadata": {},
   "outputs": [],
   "source": [
    "K = P_mc.shape[-1]\n",
    "counts = torch.arange(K)\n",
    "\n",
    "hd_mean = (counts[None, None, None, :] * P_mc).sum(-1)  # (MC, neurons, steps)\n",
    "hd_rate = hd_mean / dataset_dict['tbin']  # in units of Hz\n",
    "hd_var = (counts[None, None, None, :]**2 * P_mc).sum(-1) - hd_mean**2\n",
    "hd_FF = hd_var / (hd_mean + 1e-12)\n",
    "\n",
    "_, hd_rate, _ = utils.signal.percentiles_from_samples(hd_rate, [0.05, 0.5, 0.95])\n",
    "_, hd_FF, _ = utils.signal.percentiles_from_samples(hd_FF, [0.05, 0.5, 0.95])"
   ]
  },
  {
   "cell_type": "code",
   "execution_count": 30,
   "metadata": {},
   "outputs": [
    {
     "data": {
      "text/plain": [
       "Text(0, 0.5, 'Fano Factor')"
      ]
     },
     "execution_count": 30,
     "metadata": {},
     "output_type": "execute_result"
    },
    {
     "data": {
      "image/png": "[encoded data removed]",
      "text/plain": [
       "<Figure size 640x480 with 2 Axes>"
      ]
     },
     "metadata": {},
     "output_type": "display_data"
    }
   ],
   "source": [
    "ne = 4\n",
    "fig, ax = plt.subplots(2, 1, sharex=True)\n",
    "\n",
    "angles = np.linspace(0, 360, hd_mean.shape[-1])\n",
    "\n",
    "ax[0].plot(angles, hd_rate[ne,:])\n",
    "ax[0].set_ylabel('Rate [Hz]')\n",
    "ax[1].plot(angles, hd_FF[ne,:])\n",
    "ax[1].set_xlabel('head direction [$^\\circ$]')\n",
    "ax[1].set_ylabel('Fano Factor')"
   ]
  },
  {
   "cell_type": "code",
   "execution_count": 31,
   "metadata": {},
   "outputs": [],
   "source": [
    "correlations = np.empty((0,))\n",
    "\n",
    "for ne in range(units_used):\n",
    "    C = np.corrcoef(np.gradient(hd_rate[ne,:])**2, hd_FF[ne,:])\n",
    "    correlations = np.append(correlations, C[0,1])\n",
    "\n",
    "fig, ax = plt.subplots()\n",
    "ax.hist(correlations[:22], bins='auto')\n",
    "ax.set_xlabel('correlation coefficient')\n",
    "ax.set_ylabel('number of neurons')"
   ]
  }
 ],
 "metadata": {
  "kernelspec": {
   "display_name": "Python (py3_9env)",
   "language": "python",
   "name": "py3_9env"
  },
  "language_info": {
   "codemirror_mode": {
    "name": "ipython",
    "version": 3
   },
   "file_extension": ".py",
   "mimetype": "text/x-python",
   "name": "python",
   "nbconvert_exporter": "python",
   "pygments_lexer": "ipython3",
   "version": "3.9.16"
  },
  "orig_nbformat": 4,
  "vscode": {
   "interpreter": {
    "hash": "03b42b607d427ab01b77ba221b71d39d3ac7012b8dc8f3f3d33b6b75bb4ead96"
   }
  }
 },
 "nbformat": 4,
 "nbformat_minor": 2
}

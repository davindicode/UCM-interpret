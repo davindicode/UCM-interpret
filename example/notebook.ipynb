{
 "cells": [
  {
   "cell_type": "markdown",
   "metadata": {},
   "source": [
    "# Example of loading and analysing the UCM\n",
    "\n",
    "This notebook walks through loading and analysing a trained UCM. For large scale experiments, the model analysis code should be put into a Python script to keep the workflow clean and allow parallel processing of many different models.\n",
    "\n",
    "### Table of contents\n",
    "\n",
    "1. [**Loading a trained model**](#loading)\n",
    "2. [**Assessing goodness-of-fit**](#assess)\n",
    "3. [**Computing spike count distributions**](#SCD)\n",
    "4. [**Inspecting model parameters**](#inspect)"
   ]
  },
  {
   "cell_type": "code",
   "execution_count": 1,
   "metadata": {},
   "outputs": [
    {
     "name": "stdout",
     "output_type": "stream",
     "text": [
      "PyTorch version: 1.7.1+cu101\n",
      "Using device: cuda:0\n"
     ]
    }
   ],
   "source": [
    "### imports ###\n",
    "%load_ext autoreload\n",
    "%autoreload 2\n",
    "\n",
    "import numpy as np\n",
    "import scipy as sc\n",
    "\n",
    "import torch\n",
    "import torch.nn as nn\n",
    "from torch.nn.parameter import Parameter\n",
    "import torch.nn.functional as F\n",
    "import torch.optim as optim\n",
    "\n",
    "\n",
    "import pickle\n",
    "\n",
    "\n",
    "# add paths to access shared code\n",
    "import sys\n",
    "sys.path.append(\"..\")\n",
    "sys.path.append(\"../scripts/\")\n",
    "\n",
    "# import library implementing models\n",
    "import neuroprob as nprb\n",
    "from neuroprob import utils\n",
    "\n",
    "# import utility code for model building/training/loading\n",
    "import lib\n",
    "import HDC\n",
    "\n",
    "# get GPU device if available\n",
    "gpu_dev = 0\n",
    "dev = utils.pytorch.get_device(gpu=gpu_dev)\n",
    "\n",
    "# use custom plotting settings\n",
    "import matplotlib.pyplot as plt\n",
    "\n",
    "plt.style.use(['paper.mplstyle'])\n",
    "\n",
    "# useful colormap\n",
    "white = '#ffffff'\n",
    "red = '#ff0000'\n",
    "blue = '#0000ff'\n",
    "weight_map = utils.plot.make_cmap([blue, white, red], 'weight_map')"
   ]
  },
  {
   "cell_type": "markdown",
   "metadata": {},
   "source": [
    "<a id='loading'></a>\n",
    "## 1. Loading a trained model\n",
    "\n",
    "Here we specify the dataset used for training and the model architecture hyperparameters. This model is the UCM fit to observed covariates ```x_mode = 'hd-w-s-pos-t'```, meaning head direction (```hd```), angular head velocity (```w```), speed (```s```), animal $x$ and $y$ position (```pos```, two dimensions), and absolute time since the start of the recording session (```t```)."
   ]
  },
  {
   "cell_type": "code",
   "execution_count": 2,
   "metadata": {},
   "outputs": [],
   "source": [
    "checkpoint_dir = './'\n",
    "session_id = '12-120806'\n",
    "phase = 'wake'\n",
    "\n",
    "single_spikes = False\n",
    "dt = 0.001\n",
    "\n",
    "ll_mode = 'Uqd3'  # stands for universal count model with exponential-quadratic expansion and C = 3\n",
    "filt_mode = ''\n",
    "map_mode = 'svgp64'  # a sparse variational GP mapping with 64 inducing points\n",
    "x_mode = 'hd-w-s-pos-t'  # observed covariates (behaviour)\n",
    "z_mode = ''  # latent covariates\n",
    "hist_len = 0\n",
    "folds = 5  # cross-validation folds\n",
    "delays = [0]\n",
    "model_info = (ll_mode, filt_mode, map_mode, x_mode, z_mode, hist_len, folds, delays)"
   ]
  },
  {
   "cell_type": "markdown",
   "metadata": {},
   "source": [
    "Now we load the model checkpoint for a given settings, along with the training data. The checkpoint name is determined internally by the model architecture specified above and the dataset that we load."
   ]
  },
  {
   "cell_type": "code",
   "execution_count": 3,
   "metadata": {},
   "outputs": [],
   "source": [
    "bin_size = 50  # ms\n",
    "cv_run = 4  # test set is last 1/5 of dataset time series\n",
    "delay = 0\n",
    "batch_size = 5000  # size of time segments of each batch in dataset below\n",
    "\n",
    "    \n",
    "# data\n",
    "dataset_tuple = HDC.get_dataset(session_id, phase, bin_size, single_spikes, path='./')\n",
    "\n",
    "# model and train/test split based on which validation fold is given by cv_run\n",
    "modelfit, fit_set, validation_set = lib.models.load_model(\n",
    "    checkpoint_dir, model_info, dataset_tuple, HDC.inputs_used, HDC.enc_used, \n",
    "    delay, cv_run, batch_size, gpu_dev, tensor_type=torch.float, jitter=1e-5\n",
    ")"
   ]
  },
  {
   "cell_type": "markdown",
   "metadata": {},
   "source": [
    "<a id='assess'></a>\n",
    "## 2. Assessing goodness-of-fit\n",
    "\n",
    "We can evaluate the held-out test log likelihood with the above. Repeating over all folds will give us $k$-fold cross-validation, in this case we have $k=5$. Below we compute the test log likelihood for one fold."
   ]
  },
  {
   "cell_type": "code",
   "execution_count": 4,
   "metadata": {},
   "outputs": [
    {
     "name": "stdout",
     "output_type": "stream",
     "text": [
      "Data segment timesteps: 35020\n",
      "-213324.8721923828\n"
     ]
    }
   ],
   "source": [
    "# LL\n",
    "train = validation_set[1]\n",
    "ts = train+1.\n",
    "\n",
    "ll = lib.helper.RG_pred_ll(\n",
    "    modelfit, fit_set, neuron_group=None, ll_mode='MC', \n",
    "    ll_samples=1, cov_samples=1, beta=0.0\n",
    ")\n",
    "print(ll)"
   ]
  },
  {
   "cell_type": "markdown",
   "metadata": {},
   "source": [
    "Apart from the likelihood score, a more direct measure of goodness-of-fit is given by the [Kolmogorov-Smirnov test](https://en.wikipedia.org/wiki/Kolmogorov%E2%80%93Smirnov_test) adapted to count distributions. We compute the predictive spike count distribution given input covariates and then compute the quantiles of the observed spike counts. These are obtained from the training data, and will thus show us how well the model was able to fit in an absolute sense. We can turn these into $Z$-scores (which will be unit normal distributed if the model describes observations well)."
   ]
  },
  {
   "cell_type": "code",
   "execution_count": 5,
   "metadata": {},
   "outputs": [],
   "source": [
    "rcov, units_used, tbin, resamples, rc_t, max_count, bin_size, metainfo, data_name = dataset_tuple\n",
    "\n",
    "# quantiles, Z scores\n",
    "P_ = []\n",
    "for b in range(modelfit.input_group.batches):\n",
    "    covariates, _ = modelfit.input_group.sample_XZ(b, samples=1)  # get the training batch b\n",
    "    with torch.no_grad():\n",
    "        P_mc = lib.helper.compute_P(modelfit, covariates, list(range(units_used)), MC=30, trials=1)  # predictive posterior\n",
    "    P_.append(P_mc.mean(0).cpu().numpy())  # take mean over MC samples\n",
    "P = np.concatenate(P_, axis=1)  # count probabilities of shape (neurons, timesteps, count)\n",
    "\n",
    "\n",
    "q = []\n",
    "Z = []\n",
    "trial = 0\n",
    "for n in range(units_used):\n",
    "    batch_edge, _, _ = modelfit.likelihood.batch_info\n",
    "    spike_binned = modelfit.likelihood.all_spikes[trial, n, :].numpy()\n",
    "    q_, Z_ = lib.helper.get_q_Z(P[n, ...], spike_binned, deq_noise=None)\n",
    "    q.append(q_)\n",
    "    Z.append(Z_)\n",
    "\n",
    "q = np.array(q)  # quantiles of shape (neurons, timesteps)\n",
    "Z = np.array(Z)  # Z scores of shape (neurons, timesteps)"
   ]
  },
  {
   "cell_type": "markdown",
   "metadata": {},
   "source": [
    "We can obtain the Kolmogorov-Smirnov test statistic $T_{KS}$, and the dispersion statistic $T_{DS}$ as well (see paper). These statistics are computed per neuron and reflect single neuron goodness-of-fit measures. The $T_{KS}$ statistic seems to be roughly distributed as the sampling distribution under the null model, i.e. if the model generated the data this would be the distribution of $T_{KS}$ observed for an infinite number of repetitions of random data draws."
   ]
  },
  {
   "cell_type": "code",
   "execution_count": 6,
   "metadata": {},
   "outputs": [],
   "source": [
    "T_DS_bn = []\n",
    "T_KS_bn = []\n",
    "for qq in q:\n",
    "    T_DS, T_KS, sign_DS, sign_KS, p_DS, p_KS = utils.stats.KS_statistics(qq, alpha=0.05, alpha_s=0.05)\n",
    "    T_DS_bn.append(T_DS)\n",
    "    T_KS_bn.append(T_KS)\n",
    "\n",
    "T_DS_bn = np.array(T_DS_bn)  # (neurons,)\n",
    "T_KS_bn = np.array(T_KS_bn)"
   ]
  },
  {
   "cell_type": "code",
   "execution_count": 7,
   "metadata": {},
   "outputs": [
    {
     "data": {
      "image/png": "[encoded data removed]",
      "text/plain": [
       "<Figure size 245x183.75 with 1 Axes>"
      ]
     },
     "metadata": {
      "needs_background": "light"
     },
     "output_type": "display_data"
    }
   ],
   "source": [
    "x = np.linspace(0, 0.01, 100)\n",
    "f = utils.stats.KS_sampling_dist(x, len(q[0]))\n",
    "plt.plot(x, f)\n",
    "plt.hist(T_KS_bn, bins=np.linspace(0, 0.01, 50), density=True)\n",
    "plt.show()"
   ]
  },
  {
   "cell_type": "markdown",
   "metadata": {},
   "source": [
    "If single neuron statistics are captured well, we could still have correlations between the $Z$-scores that indicate neural correlations not explained by the input covariates. For instance, a neuron pair could happen to fire more or less spikes than their average during similar periods, which will show up as positive correlations between the $Z$-scores. If the model captures all correlations, i.e. it accounts for all co-fluctuations between neuron pairs, then we should see only insignificant correlations."
   ]
  },
  {
   "cell_type": "code",
   "execution_count": 8,
   "metadata": {},
   "outputs": [],
   "source": [
    "# neural correlations\n",
    "R = np.zeros((units_used, units_used))\n",
    "R_p = []\n",
    "for n in range(units_used):\n",
    "    for k in range(n+1, units_used):\n",
    "        r, r_p = sc.stats.pearsonr(Z[n], Z[k]) # Pearson r correlation test\n",
    "        R[n, k] = r\n",
    "        R_p.append(r_p)\n",
    "        \n",
    "R = R + R.T  # symmetrize\n",
    "R_p = np.array(R_p)"
   ]
  },
  {
   "cell_type": "code",
   "execution_count": 41,
   "metadata": {},
   "outputs": [
    {
     "data": {
      "image/png": "[encoded data removed]",
      "text/plain": [
       "<Figure size 280x280 with 2 Axes>"
      ]
     },
     "metadata": {
      "needs_background": "light"
     },
     "output_type": "display_data"
    }
   ],
   "source": [
    "Rmax = max(-R.min(), R.max())\n",
    "\n",
    "fig = plt.figure(figsize=(4, 4))\n",
    "widths = [1, 0.03]\n",
    "heights = [1]\n",
    "\n",
    "spec = fig.add_gridspec(ncols=len(widths), nrows=len(heights), width_ratios=widths, \n",
    "                        height_ratios=heights, top=1., bottom=0.0, \n",
    "                        left=0., right=1., wspace=0.3)\n",
    "\n",
    "ax = fig.add_subplot(spec[0, 0])\n",
    "utils.plot.decorate_ax(ax)  # get all four spines around plot\n",
    "im = ax.imshow(R, cmap=weight_map, vmin=-Rmax, vmax=Rmax)\n",
    "ax.set_xlabel('neuron $i$')\n",
    "ax.set_ylabel('neuron $j$')\n",
    "ax.set_title('noise correlations')\n",
    "ax.set_xticks(np.arange(units_used))\n",
    "ax.set_yticks(np.arange(units_used))\n",
    "\n",
    "ax = fig.add_subplot(spec[0, 1])\n",
    "utils.plot.add_colorbar((fig, ax), im, cbar_outline=False, cbar_ori='vertical', cbar_fontsize=12, \n",
    "    cbar_pad=20, ticktitle=None, ticks=None, ticklabels=None, cbar_format=None)\n",
    "\n",
    "plt.show()"
   ]
  },
  {
   "cell_type": "code",
   "execution_count": 16,
   "metadata": {},
   "outputs": [
    {
     "data": {
      "image/png": "[encoded data removed]",
      "text/plain": [
       "<Figure size 245x183.75 with 1 Axes>"
      ]
     },
     "metadata": {
      "needs_background": "light"
     },
     "output_type": "display_data"
    }
   ],
   "source": [
    "fig, ax = plt.subplots()\n",
    "ax.hist(R_p, bins=np.linspace(0, 1, 50), density=True)\n",
    "ylims = ax.get_ylim()\n",
    "ax.plot(2*[0.05], ylims, 'k--')\n",
    "ax.set_xlabel(r'$p$-values of correlations')\n",
    "plt.show()"
   ]
  },
  {
   "cell_type": "markdown",
   "metadata": {},
   "source": [
    "<a id='SCD'></a>\n",
    "## 3. Computing spike count distributions\n",
    "\n",
    "Now we load a model that has been trained on the entire dataset, which we specify by setting ```cv_run = -1```."
   ]
  },
  {
   "cell_type": "code",
   "execution_count": 17,
   "metadata": {},
   "outputs": [],
   "source": [
    "bin_size = 50  # ms\n",
    "cv_run = -1  # test set is last 1/5 of dataset time series\n",
    "delay = 0\n",
    "batch_size = 5000  # size of time segments of each batch in dataset below\n",
    "\n",
    "    \n",
    "# data\n",
    "dataset_tuple = HDC.get_dataset(session_id, phase, bin_size, single_spikes)\n",
    "\n",
    "# model and train/test split based on which validation fold is given by cv_run\n",
    "modelfit, fit_set, validation_set = lib.models.load_model(\n",
    "    checkpoint_dir, model_info, dataset_tuple, HDC.inputs_used, HDC.enc_used, \n",
    "    delay, cv_run, batch_size, gpu_dev, tensor_type=torch.float, jitter=1e-5\n",
    ")"
   ]
  },
  {
   "cell_type": "markdown",
   "metadata": {},
   "source": [
    "We can compute the spike count distribution conditioned on input covariates, and in this way we can explore the neural tuning over a slice through input space. We set all other covariates at the mean values of the observed time series in the dataset."
   ]
  },
  {
   "cell_type": "code",
   "execution_count": 18,
   "metadata": {},
   "outputs": [],
   "source": [
    "hd_sweep = torch.linspace(0, 2*np.pi, 100)\n",
    "\n",
    "covariates = torch.cat([\n",
    "    hd_sweep[:, None],  # sweep over head direction\n",
    "    *[rcov[k].mean()*torch.ones((100, 1)) for k in range(1, len(rcov))], \n",
    "    # fill other behavioural covariates at value 0\n",
    "], dim=-1)[None, None, ...]  # (tr, neurons, steps, covariate dims)\n",
    "\n",
    "with torch.no_grad():\n",
    "    P_mc = lib.helper.compute_P(\n",
    "        modelfit, covariates, list(range(units_used)), MC=30, trials=1)  # predictive posterior\n",
    "P_mc = P_mc.cpu()  # count probabilities of shape (MC, neurons, steps, count)"
   ]
  },
  {
   "cell_type": "code",
   "execution_count": 19,
   "metadata": {},
   "outputs": [
    {
     "data": {
      "image/png": "[encoded data removed]",
      "text/plain": [
       "<Figure size 560x280 with 3 Axes>"
      ]
     },
     "metadata": {
      "needs_background": "light"
     },
     "output_type": "display_data"
    }
   ],
   "source": [
    "# histograms\n",
    "lower, mean, upper = utils.signal.percentiles_from_samples(P_mc, [0.05, 0.5, 0.95])\n",
    "\n",
    "\n",
    "fig = plt.figure(figsize=(8, 4))\n",
    "widths = [1, 1, 1]\n",
    "heights = [1]\n",
    "\n",
    "spec = fig.add_gridspec(ncols=len(widths), nrows=len(heights), width_ratios=widths, \n",
    "                        height_ratios=heights, top=1., bottom=0.0, \n",
    "                        left=0., right=1., wspace=0.3)\n",
    "\n",
    "ne = 20  # select neuron\n",
    "K = P_mc.shape[-1]\n",
    "for en, step_ind in enumerate([50, 55, 60]):\n",
    "    ax = fig.add_subplot(spec[0, en])\n",
    "    hd = hd_sweep[step_ind]\n",
    "    ax.set_title(r'$\\theta_{hd} = $' + '{:.1f}'.format(hd / np.pi * 180) + r'$^{\\circ}$')\n",
    "    \n",
    "    for k in range(K):\n",
    "        XX_ = np.linspace(k-0.5, k+0.5, 2)\n",
    "        YY_ = np.ones(2)*mean.numpy()[ne, step_ind, k]\n",
    "        YY_l = np.ones(2)*lower.numpy()[ne, step_ind, k]\n",
    "        YY_u = np.ones(2)*upper.numpy()[ne, step_ind, k]\n",
    "        line, = ax.plot(XX_, YY_, c='tab:blue', alpha=1.)\n",
    "        ax.fill_between(XX_, YY_l, \n",
    "            YY_u, color=line.get_color(), alpha=0.3)\n",
    "\n",
    "\n",
    "    ax.set_xlim([-0.5, K-1+.5])\n",
    "    ax.set_ylim(0, 0.4)\n",
    "    ax.set_xticks(np.arange(K))\n",
    "    \n",
    "    if en == 0:\n",
    "        ax.set_ylabel('count probability', fontsize=11, labelpad=5)\n",
    "        ax.set_xlabel('# spikes', labelpad=5, fontsize=11)\n",
    "\n",
    "plt.show()"
   ]
  },
  {
   "cell_type": "markdown",
   "metadata": {},
   "source": [
    "Conventional tuning curves show mean firing rate as a function of some covariate. We can plot those by computing the mean of the count distribution."
   ]
  },
  {
   "cell_type": "code",
   "execution_count": 20,
   "metadata": {},
   "outputs": [],
   "source": [
    "K = P.shape[-1]\n",
    "counts = torch.arange(K)\n",
    "\n",
    "hd_mean = (counts[None, None, None, :] * P_mc).sum(-1)  # (MC, neurons, steps)\n",
    "hd_rate = hd_mean / tbin  # in units of Hz\n",
    "hd_var = (counts[None, None, None, :]**2 * P_mc).sum(-1) - hd_mean**2\n",
    "hd_FF = hd_var / (hd_mean + 1e-12)"
   ]
  },
  {
   "cell_type": "code",
   "execution_count": 21,
   "metadata": {},
   "outputs": [
    {
     "data": {
      "image/png": "[encoded data removed]",
      "text/plain": [
       "<Figure size 245x183.75 with 1 Axes>"
      ]
     },
     "metadata": {
      "needs_background": "light"
     },
     "output_type": "display_data"
    }
   ],
   "source": [
    "fig, ax = plt.subplots()\n",
    "\n",
    "lower, mean, upper = utils.signal.percentiles_from_samples(hd_rate, [0.05, 0.5, 0.95])\n",
    "ne = 20  # select neuron to plot\n",
    "\n",
    "line, = ax.plot(hd_sweep.numpy(), mean[ne, :].numpy())\n",
    "ax.fill_between(\n",
    "    hd_sweep.numpy(), lower[ne, :].numpy(), upper[ne, :].numpy(), \n",
    "    color=line.get_color(), alpha=0.5\n",
    ")\n",
    "ax.set_ylabel('firing rate (Hz)')\n",
    "ax.set_xlabel('head direction')\n",
    "ax.set_xlim(0, 2*np.pi)\n",
    "ax.set_xticks([0, np.pi, 2*np.pi])\n",
    "ax.set_xticklabels([r'$0$', r'$\\pi$', r'$2\\pi$'])\n",
    "plt.show()"
   ]
  },
  {
   "cell_type": "code",
   "execution_count": 22,
   "metadata": {},
   "outputs": [
    {
     "data": {
      "image/png": "[encoded data removed]",
      "text/plain": [
       "<Figure size 245x183.75 with 1 Axes>"
      ]
     },
     "metadata": {
      "needs_background": "light"
     },
     "output_type": "display_data"
    }
   ],
   "source": [
    "fig, ax = plt.subplots()\n",
    "\n",
    "lower, mean, upper = utils.signal.percentiles_from_samples(hd_FF, [0.05, 0.5, 0.95])\n",
    "ne = 20  # select neuron to plot\n",
    "\n",
    "line, = ax.plot(hd_sweep.numpy(), mean[ne, :].numpy())\n",
    "ax.fill_between(\n",
    "    hd_sweep.numpy(), lower[ne, :].numpy(), upper[ne, :].numpy(), \n",
    "    color=line.get_color(), alpha=0.5\n",
    ")\n",
    "ax.set_ylabel('Fano factor')\n",
    "ax.set_xlabel('head direction')\n",
    "ax.set_xlim(0, 2*np.pi)\n",
    "ax.set_xticks([0, np.pi, 2*np.pi])\n",
    "ax.set_xticklabels([r'$0$', r'$\\pi$', r'$2\\pi$'])\n",
    "plt.show()"
   ]
  },
  {
   "cell_type": "markdown",
   "metadata": {},
   "source": [
    "Generally, if we want to only look at tuning to one behavioural covariate, we should marginalize out the modulation from all other covariates. This cannot be done in closed form, hence we need to use Monte Carlo sampling where we treat the observed behaviour as a chain of samples and average out over those values conditioned on the relevant behavioural covariate fixed at our evaluation value. This is an expensive operation and implemented in ```scripts/lib/count_stats.py```.\n",
    "\n",
    "\n",
    "<a id='inspect'></a>\n",
    "## 4. Inspecting model parameters\n",
    "\n",
    "We can load all the kernel hyperparameters, which govern how quickly the neural tuning fluctuates with changes in covariates. The kernel module is a nested module (a product kernel with separable kernels over each covariate dimension). For the circular lengthscale, values way above $2\\pi$ indicate little variation in the GP function with head direction, i.e. it is a redundant degree of freedom w.r.t. the head direction (approximately a constant function)."
   ]
  },
  {
   "cell_type": "code",
   "execution_count": 23,
   "metadata": {},
   "outputs": [
    {
     "name": "stdout",
     "output_type": "stream",
     "text": [
      "[0]\n",
      "[1, 2, 3, 4, 5]\n"
     ]
    }
   ],
   "source": [
    "print(modelfit.mapping.kernel.kern0.kern1.track_dims)  # this is a circular kernel over the head direction (covariate dimension 0)\n",
    "print(modelfit.mapping.kernel.kern1.track_dims)  # this is a Euclidean kernel over other behavioural covariates (dimensions 1 to 5)"
   ]
  },
  {
   "cell_type": "code",
   "execution_count": 24,
   "metadata": {},
   "outputs": [
    {
     "data": {
      "image/png": "[encoded data removed]",
      "text/plain": [
       "<Figure size 245x183.75 with 1 Axes>"
      ]
     },
     "metadata": {
      "needs_background": "light"
     },
     "output_type": "display_data"
    }
   ],
   "source": [
    "lengthscales = modelfit.mapping.kernel.kern0.kern1.lengthscale.reshape(units_used, -1).data.cpu().numpy()\n",
    "C = lengthscales.shape[-1]\n",
    "\n",
    "fig, ax = plt.subplots()\n",
    "\n",
    "for n in range(units_used):\n",
    "    ax.scatter((n + 1)*np.ones(C), lengthscales[n, :], marker='+', s=10)\n",
    "    \n",
    "ax.plot([0, units_used+1], [2*np.pi, 2*np.pi], 'k--')\n",
    "ax.set_xlim([0, units_used+1])\n",
    "ax.set_yscale('log')\n",
    "\n",
    "ax.set_ylabel('angular lengthscale')\n",
    "ax.set_xlabel('neuron')\n",
    "    \n",
    "plt.show()"
   ]
  },
  {
   "cell_type": "markdown",
   "metadata": {},
   "source": [
    "The above only holds for one covariate dimension that we looked at. To look at the intrinsic degree of freedom for a neuron, it may be more informative and convenient to look at the softmax weights and biases that connect the GP functions to the spike count distribution. We now load the pre-softmax weights and biases. Each neuron has its own set of weights and biases $W_n$ and $\\mathbf{b}_n$. Note we used a exponential-quadratic expansion for $\\phi(\\cdot)$. This expansion combines the quadratic basis expansion with an exponential mapping, i.e. for a vector $\\mathbf{f} = (f_1, f_2)$ we obtain \n",
    "\n",
    "$$\n",
    "\\phi(\\mathbf{f}) = (f_1, f_2, f_1^2, f_2^2, e^{f_1}, e^{f_2}, f_1 f_2)\n",
    "$$\n",
    "\n",
    "and for a vector $\\mathbf{f} = (f_1, f_2, f_3)$ we obtain \n",
    "\n",
    "$$\n",
    "\\phi(\\mathbf{f}) = (f_1, f_2, f_3, f_1^2, f_2^2, f_3^2, e^{f_1}, e^{f_2}, e^{f_3}, f_1 f_2, f_2 f_3, f_1 f_3)\n",
    "$$\n",
    "\n",
    "and so on. The last example here corresponds to the case of $C = 3$ as in the model that we loaded. The probability of spike count $k$ for neuron $n$ is then computed as \n",
    "\n",
    "$$\n",
    "P_{nk} = \\text{softmax}\\left( W_n \\cdot \\phi(\\mathbf{f}_n) + \\mathbf{b}_n \\right)_k\n",
    "$$\n",
    "\n",
    "Different basis expansions $\\phi(\\cdot)$ are defined in ```scripts/lib/models.py```."
   ]
  },
  {
   "cell_type": "code",
   "execution_count": 25,
   "metadata": {},
   "outputs": [
    {
     "name": "stdout",
     "output_type": "stream",
     "text": [
      "torch.Size([21, 11, 12])\n",
      "torch.Size([21, 11])\n"
     ]
    }
   ],
   "source": [
    "print(modelfit.likelihood.mapping_net.mnet.net[0].weight.shape)  # (neuron, count, phi(f) dimension)\n",
    "print(modelfit.likelihood.mapping_net.mnet.net[0].bias.shape)  # (neuron, count)"
   ]
  },
  {
   "cell_type": "code",
   "execution_count": 37,
   "metadata": {},
   "outputs": [
    {
     "data": {
      "image/png": "[encoded data removed]",
      "text/plain": [
       "<Figure size 280x280 with 2 Axes>"
      ]
     },
     "metadata": {
      "needs_background": "light"
     },
     "output_type": "display_data"
    }
   ],
   "source": [
    "ne = 20  # select neuron\n",
    "Wn = modelfit.likelihood.mapping_net.mnet.net[0].weight[ne, :, :].data.cpu().numpy()\n",
    "\n",
    "Wmax = max(-Wn.min(), Wn.max())\n",
    "\n",
    "\n",
    "fig = plt.figure(figsize=(4, 4))\n",
    "widths = [1, 0.03]\n",
    "heights = [1]\n",
    "\n",
    "spec = fig.add_gridspec(ncols=len(widths), nrows=len(heights), width_ratios=widths, \n",
    "                        height_ratios=heights, top=1., bottom=0.0, \n",
    "                        left=0., right=1., wspace=0.3)\n",
    "\n",
    "ax = fig.add_subplot(spec[0, 0])\n",
    "utils.plot.decorate_ax(ax)  # get all four spines around plot\n",
    "im = ax.matshow(Wn, vmin=-Wmax, vmax=Wmax, cmap=weight_map)\n",
    "ax.set_xlabel(r'$\\phi(f)$ dimension')\n",
    "ax.set_ylabel(r'count dimension $k$')\n",
    "\n",
    "ax = fig.add_subplot(spec[0, 1])\n",
    "utils.plot.add_colorbar((fig, ax), im, cbar_outline=False, cbar_ori='vertical', cbar_fontsize=12, \n",
    "    cbar_pad=20, ticktitle=None, ticks=None, ticklabels=None, cbar_format=None)\n",
    "    \n",
    "plt.show()"
   ]
  },
  {
   "cell_type": "code",
   "execution_count": 34,
   "metadata": {},
   "outputs": [
    {
     "data": {
      "image/png": "[encoded data removed]",
      "text/plain": [
       "<Figure size 245x183.75 with 1 Axes>"
      ]
     },
     "metadata": {
      "needs_background": "light"
     },
     "output_type": "display_data"
    }
   ],
   "source": [
    "ne = 20  # select neuron\n",
    "bn = modelfit.likelihood.mapping_net.mnet.net[0].bias[ne, :].data.cpu().numpy()\n",
    "\n",
    "fig, ax = plt.subplots()\n",
    "ax.scatter(np.arange(bn.shape[0]), bn, marker='+', s=30)\n",
    "ax.set_ylabel('bias')\n",
    "ax.set_xlabel(r'count dimension $k$')\n",
    "plt.show()"
   ]
  },
  {
   "cell_type": "code",
   "execution_count": null,
   "metadata": {},
   "outputs": [],
   "source": []
  }
 ],
 "metadata": {
  "kernelspec": {
   "display_name": "Python 3 (ipykernel)",
   "language": "python",
   "name": "python3"
  },
  "language_info": {
   "codemirror_mode": {
    "name": "ipython",
    "version": 3
   },
   "file_extension": ".py",
   "mimetype": "text/x-python",
   "name": "python",
   "nbconvert_exporter": "python",
   "pygments_lexer": "ipython3",
   "version": "3.6.9"
  }
 },
 "nbformat": 4,
 "nbformat_minor": 4
}

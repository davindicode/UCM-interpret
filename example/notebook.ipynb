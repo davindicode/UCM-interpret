{
 "cells": [
  {
   "cell_type": "markdown",
   "metadata": {},
   "source": [
    "# Example of loading and analysing the UCM\n",
    "\n",
    "This notebook walks through loading and analysing a trained UCM. For large scale experiments, the model analysis code should be put into a Python script to keep the workflow clean and allow parallel processing of many different models.\n",
    "\n",
    "### Table of contents\n",
    "\n",
    "1. [**Loading a trained model**](#loading)\n",
    "2. [**Assessing goodness-of-fit**](#assess)\n",
    "3. [**Computing spike count distributions**](#SCD)\n",
    "4. [**Inspecting model parameters**](#inspect)"
   ]
  },
  {
   "cell_type": "code",
   "execution_count": 1,
   "metadata": {},
   "outputs": [
    {
     "name": "stdout",
     "output_type": "stream",
     "text": [
      "PyTorch version: 1.7.1+cu101\n",
      "Using device: cuda:0\n"
     ]
    }
   ],
   "source": [
    "### imports ###\n",
    "%load_ext autoreload\n",
    "%autoreload 2\n",
    "\n",
    "import numpy as np\n",
    "import scipy as sc\n",
    "\n",
    "import torch\n",
    "import torch.nn as nn\n",
    "from torch.nn.parameter import Parameter\n",
    "import torch.nn.functional as F\n",
    "import torch.optim as optim\n",
    "\n",
    "\n",
    "import pickle\n",
    "\n",
    "\n",
    "# add paths to access shared code\n",
    "import sys\n",
    "sys.path.append(\"..\")\n",
    "sys.path.append(\"../scripts/\")\n",
    "\n",
    "# import library implementing models\n",
    "import neuroprob as nprb\n",
    "from neuroprob import utils\n",
    "\n",
    "# import utility code for model building/training/loading\n",
    "import lib\n",
    "import HDC\n",
    "\n",
    "# get GPU device if available\n",
    "gpu_dev = 0\n",
    "dev = utils.pytorch.get_device(gpu=gpu_dev)\n",
    "\n",
    "# use custom plotting settings\n",
    "import matplotlib.pyplot as plt\n",
    "\n",
    "plt.style.use(['paper.mplstyle'])"
   ]
  },
  {
   "cell_type": "markdown",
   "metadata": {},
   "source": [
    "<a id='loading'></a>\n",
    "## 1. Loading a trained model\n",
    "\n",
    "Here we specify the dataset used for training and the model architecture hyperparameters. This model is the UCM fit to observed covariates ```x_mode = 'hd-w-s-pos-t'```, meaning head direction (```hd```), angular head velocity (```w```), speed (```s```), animal $x$ and $y$ position (```pos```, two dimensions), and absolute time since the start of the recording session (```t```)."
   ]
  },
  {
   "cell_type": "code",
   "execution_count": 2,
   "metadata": {},
   "outputs": [],
   "source": [
    "checkpoint_dir = './'\n",
    "session_id = '12-120806'\n",
    "phase = 'wake'\n",
    "\n",
    "single_spikes = False\n",
    "dt = 0.001\n",
    "\n",
    "ll_mode = 'Uqd3'\n",
    "filt_mode = ''\n",
    "map_mode = 'svgp64'\n",
    "x_mode = 'hd-w-s-pos-t'\n",
    "z_mode = ''\n",
    "hist_len = 0\n",
    "folds = 5\n",
    "delays = [0]\n",
    "model_info = (ll_mode, filt_mode, map_mode, x_mode, z_mode, hist_len, folds, delays)"
   ]
  },
  {
   "cell_type": "markdown",
   "metadata": {},
   "source": [
    "Now we load the model checkpoint for a given settings, along with the training data. The checkpoint name is determined internally by the model architecture specified above and the dataset that we load."
   ]
  },
  {
   "cell_type": "code",
   "execution_count": 3,
   "metadata": {},
   "outputs": [],
   "source": [
    "bin_size = 50  # ms\n",
    "cv_run = 4  # test set is last 1/5 of dataset time series\n",
    "delay = 0\n",
    "batch_size = 5000  # size of time segments of each batch in dataset below\n",
    "\n",
    "    \n",
    "# data\n",
    "dataset_tuple = HDC.get_dataset(session_id, phase, bin_size, single_spikes)\n",
    "\n",
    "# model and train/test split based on which validation fold is given by cv_run\n",
    "modelfit, fit_set, validation_set = lib.models.load_model(\n",
    "    checkpoint_dir, model_info, dataset_tuple, HDC.inputs_used, HDC.enc_used, \n",
    "    delay, cv_run, batch_size, gpu_dev, tensor_type=torch.float, jitter=1e-5, J=100\n",
    ")"
   ]
  },
  {
   "cell_type": "markdown",
   "metadata": {},
   "source": [
    "<a id='assess'></a>\n",
    "## 2. Assessing goodness-of-fit\n",
    "\n",
    "We can evaluate the held-out test log likelihood with the above. Repeating over all folds will give us $k$-fold cross-validation, in this case we have $k=5$. Below we compute the test log likelihood for one fold."
   ]
  },
  {
   "cell_type": "code",
   "execution_count": 4,
   "metadata": {},
   "outputs": [
    {
     "name": "stdout",
     "output_type": "stream",
     "text": [
      "Data segment timesteps: 35020\n",
      "-213158.92639160156\n"
     ]
    }
   ],
   "source": [
    "# LL\n",
    "train = validation_set[1]\n",
    "ts = train+1.\n",
    "\n",
    "ll = lib.helper.RG_pred_ll(\n",
    "    modelfit, fit_set, neuron_group=None, ll_mode='MC', \n",
    "    ll_samples=1, cov_samples=1, beta=0.0\n",
    ")\n",
    "print(ll)"
   ]
  },
  {
   "cell_type": "markdown",
   "metadata": {},
   "source": [
    "Apart from the likelihood score, a more direct measure of goodness-of-fit is given by the [Kolmogorov-Smirnov test](https://en.wikipedia.org/wiki/Kolmogorov%E2%80%93Smirnov_test) adapted to count distributions. We compute the predictive spike count distribution given input covariates and then compute the quantiles of the observed spike counts. These are obtained from the training data, and will thus show us how well the model was able to fit in an absolute sense. We can turn these into $Z$-scores (which will be unit normal distributed if the model describes observations well)."
   ]
  },
  {
   "cell_type": "code",
   "execution_count": null,
   "metadata": {},
   "outputs": [],
   "source": [
    "rcov, units_used, tbin, resamples, rc_t, max_count, bin_size, metainfo, data_name = dataset_tuple\n",
    "\n",
    "# quantiles, Z scores\n",
    "P_ = []\n",
    "for b in range(modelfit.input_group.batches):\n",
    "    covariates, _ = modelfit.input_group.sample_XZ(b, samples=1)  # get the training batch b\n",
    "        \n",
    "    P_mc = lib.helper.compute_P(modelfit, covariates, pick_neuron, MC=30, trials=1)  # predictive posterior\n",
    "    P_.append(P_mc.mean(0).cpu().numpy())  # take mean over MC samples\n",
    "P = np.concatenate(P_, axis=1)  # count probabilities of shape (neurons, timesteps, count)\n",
    "\n",
    "\n",
    "q = []\n",
    "Z = []\n",
    "trial = 0\n",
    "for n in range(units_used):\n",
    "    batch_edge, _, _ = modelfit.likelihood.batch_info\n",
    "    spike_binned = modelfit.likelihood.all_spikes[trial, pick_neuron[n], :].numpy()\n",
    "    q_, Z_ = lib.helper.get_q_Z(P[n, ...], spike_binned, deq_noise=None)\n",
    "    q.append(q_)\n",
    "    Z.append(Z_)\n",
    "\n",
    "q = np.array(q)  # quantiles of shape (neurons, timesteps)\n",
    "Z = np.array(Z)  # Z scores of shape (neurons, timesteps)"
   ]
  },
  {
   "cell_type": "markdown",
   "metadata": {},
   "source": [
    "We can obtain the Kolmogorov-Smirnov test statistic $T_{KS}$, and the dispersion statistic $T_{DS}$ as well (see paper). These statistics are computed per neuron and reflect single neuron goodness-of-fit measures. The $T_{KS}$ statistic seems to be roughly distributed as the sampling distribution under the null model, i.e. if the model generated the data this would be the distribution of $T_{KS}$ observed for an infinite number of repetitions of random data draws."
   ]
  },
  {
   "cell_type": "code",
   "execution_count": null,
   "metadata": {},
   "outputs": [],
   "source": [
    "T_DS_bn = []\n",
    "T_KS_bn = []\n",
    "for qq in q:\n",
    "    T_DS, T_KS, sign_DS, sign_KS, p_DS, p_KS = utils.stats.KS_statistics(qq, alpha=0.05, alpha_s=0.05)\n",
    "    T_DS_bn.append(T_DS)\n",
    "    T_KS_bn.append(T_KS)\n",
    "\n",
    "T_DS_bn = np.array(T_DS_bn)  # (neurons,)\n",
    "T_KS_bn = np.array(T_KS_bn)"
   ]
  },
  {
   "cell_type": "code",
   "execution_count": 55,
   "metadata": {},
   "outputs": [
    {
     "data": {
      "image/png": "[encoded data removed]",
      "text/plain": [
       "<Figure size 245x183.75 with 1 Axes>"
      ]
     },
     "metadata": {
      "needs_background": "light"
     },
     "output_type": "display_data"
    }
   ],
   "source": [
    "x = np.linspace(0, 0.01, 100)\n",
    "f = utils.stats.KS_sampling_dist(x, len(q[0]))\n",
    "plt.plot(x, f)\n",
    "plt.hist(T_KS_bn, bins=np.linspace(0, 0.01, 50), density=True)\n",
    "plt.show()"
   ]
  },
  {
   "cell_type": "markdown",
   "metadata": {},
   "source": [
    "If single neuron statistics are captured well, we could still have correlations between the $Z$-scores that indicate neural correlations not explained by the input covariates. For instance, a neuron pair could happen to fire more or less spikes than their average during similar periods, which will show up as positive correlations between the $Z$-scores. If the model captures all correlations, i.e. it accounts for all co-fluctuations between neuron pairs, then we should see only insignificant correlations."
   ]
  },
  {
   "cell_type": "code",
   "execution_count": 39,
   "metadata": {},
   "outputs": [],
   "source": [
    "# neural correlations\n",
    "R = np.zeros((units_used, units_used))\n",
    "R_p = []\n",
    "for n in range(units_used):\n",
    "    for k in range(n+1, units_used):\n",
    "        r, r_p = sc.stats.pearsonr(Z[n], Z[k]) # Pearson r correlation test\n",
    "        R[n, k] = r\n",
    "        R_p.append(r_p)\n",
    "        \n",
    "R = R + R.T  # symmetrize\n",
    "R_p = np.array(R_p)"
   ]
  },
  {
   "cell_type": "code",
   "execution_count": 31,
   "metadata": {},
   "outputs": [
    {
     "data": {
      "image/png": "[encoded data removed]",
      "text/plain": [
       "<Figure size 245x183.75 with 1 Axes>"
      ]
     },
     "metadata": {
      "needs_background": "light"
     },
     "output_type": "display_data"
    }
   ],
   "source": [
    "white = '#ffffff'\n",
    "red = '#ff0000'\n",
    "blue = '#0000ff'\n",
    "weight_map = utils.plot.make_cmap([blue, white, red], 'weight_map')\n",
    "\n",
    "Rmax = max(-R.min(), R.max())\n",
    "\n",
    "fig, ax = plt.subplots()\n",
    "ax.imshow(R, cmap=weight_map, vmin=-Rmax, vmax=Rmax)\n",
    "ax.set_xlabel('neuron $i$')\n",
    "ax.set_ylabel('neuron $j$')\n",
    "ax.set_title('noise correlations')\n",
    "plt.show()"
   ]
  },
  {
   "cell_type": "code",
   "execution_count": 47,
   "metadata": {},
   "outputs": [
    {
     "data": {
      "image/png": "[encoded data removed]",
      "text/plain": [
       "<Figure size 245x183.75 with 1 Axes>"
      ]
     },
     "metadata": {
      "needs_background": "light"
     },
     "output_type": "display_data"
    }
   ],
   "source": [
    "fig, ax = plt.subplots()\n",
    "ax.hist(R_p, bins=np.linspace(0, 1, 50), density=True)\n",
    "ylims = ax.get_ylim()\n",
    "ax.plot(2*[0.05], ylims, 'k--')\n",
    "ax.set_xlabel(r'$p$-values of correlations')\n",
    "plt.show()"
   ]
  },
  {
   "cell_type": "markdown",
   "metadata": {},
   "source": [
    "<a id='SCD'></a>\n",
    "## 3. Computing spike count distributions\n",
    "\n",
    "Now we load a model that has been trained on the entire dataset, which we specify by setting ```cv_run = -1```."
   ]
  },
  {
   "cell_type": "code",
   "execution_count": null,
   "metadata": {},
   "outputs": [],
   "source": []
  },
  {
   "cell_type": "code",
   "execution_count": null,
   "metadata": {},
   "outputs": [],
   "source": [
    "bin_size = 50  # ms\n",
    "cv_run = -1  # test set is last 1/5 of dataset time series\n",
    "delay = 0\n",
    "batch_size = 5000  # size of time segments of each batch in dataset below\n",
    "\n",
    "    \n",
    "# data\n",
    "dataset_tuple = HDC.get_dataset(session_id, phase, bin_size, single_spikes)\n",
    "\n",
    "# model and train/test split based on which validation fold is given by cv_run\n",
    "modelfit, fit_set, validation_set = lib.models.load_model(\n",
    "    checkpoint_dir, model_info, dataset_tuple, HDC.inputs_used, HDC.enc_used, \n",
    "    delay, cv_run, batch_size, gpu_dev, tensor_type=torch.float, jitter=1e-5, J=100\n",
    ")"
   ]
  },
  {
   "cell_type": "markdown",
   "metadata": {},
   "source": [
    "We can compute the spike count distribution conditioned on input covariates, and in this way we can explore the neural tuning over a slice through input space."
   ]
  },
  {
   "cell_type": "code",
   "execution_count": null,
   "metadata": {},
   "outputs": [],
   "source": []
  },
  {
   "cell_type": "markdown",
   "metadata": {},
   "source": [
    "Conventional tuning curves show mean firing rate as a function of some covariate. We can plot those by computing the mean of the count distribution."
   ]
  },
  {
   "cell_type": "code",
   "execution_count": null,
   "metadata": {},
   "outputs": [],
   "source": []
  },
  {
   "cell_type": "markdown",
   "metadata": {},
   "source": [
    "Generally, if we want to only look at tuning to one behavioural covariate, we should marginalize out the modulation from all other covariates. This cannot be done in closed form, hence we need to use Monte Carlo sampling where we treat the observed behaviour as a chain of samples and average out over those values conditioned on the relevant behavioural covariate fixed at our evaluation value. This is an expensive operation and implemented in ```scripts/lib/count_stats.py```.\n",
    "\n",
    "\n",
    "<a id='inspect'></a>\n",
    "## 4. Inspecting model parameters\n",
    "\n",
    "We can load all the kernel hyperparameters, which govern how quickly the neural tuning fluctuates with changes in covariates. The kernel module is a nested module (a product kernel with separable kernels over each covariate dimension)."
   ]
  },
  {
   "cell_type": "code",
   "execution_count": 89,
   "metadata": {},
   "outputs": [
    {
     "name": "stdout",
     "output_type": "stream",
     "text": [
      "[0]\n",
      "tensor([5.7563e+01, 8.8165e-01, 3.1064e+01, 1.0600e+00, 6.6379e+01, 2.2812e+01,\n",
      "        2.8602e+00, 6.8486e-01, 3.8662e-02, 8.0706e-01, 3.1165e+00, 2.1598e+00,\n",
      "        9.5046e-01, 1.1503e-02, 1.8366e+00, 2.9622e+00, 3.3263e-01, 1.2005e+00,\n",
      "        5.6975e+00, 2.4922e+00, 1.0048e+00, 1.0624e+00, 1.5486e-01, 6.4309e+00,\n",
      "        2.7222e+01, 1.3687e+00, 1.5194e-01, 2.0728e-01, 1.3591e+01, 7.6037e-01,\n",
      "        5.6069e+01, 7.2234e-01, 7.5978e+01, 4.6526e+01, 5.2061e+01, 8.3530e-01,\n",
      "        9.9404e-01, 2.4030e+02, 2.4400e+02, 8.1973e-01, 7.9870e+00, 1.5887e+02,\n",
      "        1.4880e-01, 3.6533e+00, 9.9064e+01, 1.2378e+01, 7.6336e-01, 2.7798e+01,\n",
      "        4.8883e-01, 9.9442e-01, 2.3098e+00, 8.7484e+00, 8.4228e-01, 7.4326e-01,\n",
      "        7.1725e-01, 1.4154e+00, 2.7970e+02, 6.1541e-01, 1.1371e+00, 1.1343e+00,\n",
      "        1.4048e+00, 1.0660e+00, 3.6686e+02], device='cuda:0',\n",
      "       grad_fn=<ViewBackward>)\n"
     ]
    }
   ],
   "source": [
    "print(modelfit.mapping.kernel.kern0.kern1.track_dims)  # this is a circular kernel over the head direction (covariate dimension 0)\n",
    "print(modelfit.mapping.kernel.kern0.kern1.lengthscale.flatten())  # all angular lengthscales"
   ]
  },
  {
   "cell_type": "code",
   "execution_count": 86,
   "metadata": {},
   "outputs": [
    {
     "data": {
      "text/plain": [
       "[1, 2, 3, 4, 5]"
      ]
     },
     "execution_count": 86,
     "metadata": {},
     "output_type": "execute_result"
    }
   ],
   "source": [
    "modelfit.mapping.kernel.kern1.track_dims  # this is a Euclidean kernel over other behavioural covariates"
   ]
  },
  {
   "cell_type": "markdown",
   "metadata": {},
   "source": [
    "We can also load the pre-softmax weights and biases. Each neuron has its own set of weights and biases. Note we used a quadratic element-wise expansion for $\\phi(\\cdot)$."
   ]
  },
  {
   "cell_type": "code",
   "execution_count": 75,
   "metadata": {},
   "outputs": [
    {
     "data": {
      "text/plain": [
       "tensor([2., 2., 2.])"
      ]
     },
     "execution_count": 75,
     "metadata": {},
     "output_type": "execute_result"
    }
   ],
   "source": [
    "modelfit.likelihood.mapping_net.basis[0](2*torch.ones(3))"
   ]
  },
  {
   "cell_type": "code",
   "execution_count": 90,
   "metadata": {},
   "outputs": [
    {
     "data": {
      "text/plain": [
       "torch.Size([21, 11, 12])"
      ]
     },
     "execution_count": 90,
     "metadata": {},
     "output_type": "execute_result"
    }
   ],
   "source": [
    "modelfit.likelihood.mapping_net.mnet.net[0].weight.shape  # (neuron, count, phi(f) dimension)"
   ]
  },
  {
   "cell_type": "code",
   "execution_count": 91,
   "metadata": {},
   "outputs": [
    {
     "data": {
      "text/plain": [
       "torch.Size([21, 11])"
      ]
     },
     "execution_count": 91,
     "metadata": {},
     "output_type": "execute_result"
    }
   ],
   "source": [
    "modelfit.likelihood.mapping_net.mnet.net[0].bias.shape  # (neuron, count)"
   ]
  },
  {
   "cell_type": "code",
   "execution_count": null,
   "metadata": {},
   "outputs": [],
   "source": []
  }
 ],
 "metadata": {
  "kernelspec": {
   "display_name": "Python 3 (ipykernel)",
   "language": "python",
   "name": "python3"
  },
  "language_info": {
   "codemirror_mode": {
    "name": "ipython",
    "version": 3
   },
   "file_extension": ".py",
   "mimetype": "text/x-python",
   "name": "python",
   "nbconvert_exporter": "python",
   "pygments_lexer": "ipython3",
   "version": "3.6.9"
  }
 },
 "nbformat": 4,
 "nbformat_minor": 4
}

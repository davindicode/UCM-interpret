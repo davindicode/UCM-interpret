{
 "cells": [
  {
   "cell_type": "markdown",
   "source": [
    "# Dimensionality reduction"
   ],
   "metadata": {
    "collapsed": false,
    "pycharm": {
     "name": "#%% md\n"
    }
   }
  },
  {
   "cell_type": "code",
   "execution_count": 1,
   "outputs": [
    {
     "name": "stderr",
     "output_type": "stream",
     "text": [
      "C:\\Users\\valen\\miniconda3\\lib\\site-packages\\tqdm\\auto.py:22: TqdmWarning: IProgress not found. Please update jupyter and ipywidgets. See https://ipywidgets.readthedocs.io/en/stable/user_install.html\n",
      "  from .autonotebook import tqdm as notebook_tqdm\n"
     ]
    },
    {
     "name": "stdout",
     "output_type": "stream",
     "text": [
      "PyTorch version: 1.12.1+cpu\n",
      "Using device: cpu\n"
     ]
    }
   ],
   "source": [
    "import numpy as np\n",
    "import scipy as sc\n",
    "\n",
    "import torch\n",
    "import torch.nn as nn\n",
    "from torch.nn.parameter import Parameter\n",
    "import torch.nn.functional as F\n",
    "import torch.optim as optim\n",
    "\n",
    "\n",
    "import pickle\n",
    "\n",
    "\n",
    "# add paths to access shared code\n",
    "import sys\n",
    "sys.path.append(\"..\")\n",
    "sys.path.append(\"../scripts/\")\n",
    "\n",
    "# import library implementing models\n",
    "import neuroprob as nprb\n",
    "from neuroprob import utils\n",
    "\n",
    "# import utility code for model building/training/loading\n",
    "import lib\n",
    "import HDC\n",
    "\n",
    "# get GPU device if available\n",
    "gpu_dev = 0\n",
    "dev = utils.pytorch.get_device(gpu=gpu_dev)\n",
    "\n",
    "# use custom plotting settings\n",
    "import matplotlib.pyplot as plt\n",
    "\n",
    "# useful colormap\n",
    "white = '#ffffff'\n",
    "red = '#ff0000'\n",
    "blue = '#0000ff'\n",
    "weight_map = utils.plot.make_cmap([blue, white, red], 'weight_map')"
   ],
   "metadata": {
    "collapsed": false,
    "pycharm": {
     "name": "#%%\n"
    }
   }
  },
  {
   "cell_type": "markdown",
   "source": [
    "## Loading data and model"
   ],
   "metadata": {
    "collapsed": false,
    "pycharm": {
     "name": "#%% md\n"
    }
   }
  },
  {
   "cell_type": "code",
   "execution_count": 2,
   "outputs": [],
   "source": [
    "mouse_id = 'Mouse24'\n",
    "session_id = '131213'\n",
    "phase = 'wake'\n",
    "subset = 'nonhdc'\n",
    "\n",
    "bin_size = 160  # ms\n",
    "\n",
    "# data\n",
    "single_spikes = False\n",
    "dataset_hdc = HDC.get_dataset(mouse_id, session_id, phase, 'hdc', bin_size,\n",
    "                               single_spikes, path='../data/')\n",
    "\n",
    "dataset_nonhdc = HDC.get_dataset(mouse_id, session_id, phase, 'nonhdc', bin_size, single_spikes, path='../data/')"
   ],
   "metadata": {
    "collapsed": false,
    "pycharm": {
     "name": "#%%\n"
    }
   }
  },
  {
   "cell_type": "code",
   "execution_count": 3,
   "outputs": [
    {
     "name": "stderr",
     "output_type": "stream",
     "text": [
      "C:\\Users\\valen\\UCM-interpret\\scripts\\HDC.py:165: UserWarning: Creating a tensor from a list of numpy.ndarrays is extremely slow. Please consider converting the list to a single numpy.ndarray with numpy.array() before converting to a tensor. (Triggered internally at  C:\\actions-runner\\_work\\pytorch\\pytorch\\builder\\windows\\pytorch\\torch\\csrc\\utils\\tensor_new.cpp:204.)\n",
      "  kernel_tuples += [('SE', 'torus', torch.tensor(ang_ls))]\n"
     ]
    }
   ],
   "source": [
    "bin_size = 160  # ms\n",
    "\n",
    "model_dict_hdc = {\n",
    "    'seed': 123,\n",
    "    'll_mode': 'U-ec-3',  # stands for universal count model with exponential-quadratic expansion and C = 3\n",
    "    'filt_mode': '',  # GLM couplings\n",
    "    'map_mode': 'svgp-64',  # a sparse variational GP mapping with 64 inducing points\n",
    "    'x_mode': 'hd-omega-speed-x-y-time',  # observed covariates (behaviour)\n",
    "    'z_mode': '',  # latent covariates\n",
    "    'hist_len': 0,\n",
    "    'folds': 5,\n",
    "    'delays': [0],\n",
    "    'neurons': dataset_hdc['neurons'],\n",
    "    'max_count': dataset_hdc['max_count'],\n",
    "    'bin_size': dataset_hdc['bin_size'],\n",
    "    'tbin': dataset_hdc['tbin'],\n",
    "    'model_name': dataset_hdc['name'],\n",
    "    'tensor_type': torch.float,\n",
    "    'jitter': 1e-5,\n",
    "}\n",
    "\n",
    "model_dict_nonhdc = {\n",
    "    'seed': 123,\n",
    "    'll_mode': 'U-ec-3',  # stands for universal count model with exponential-quadratic expansion and C = 3\n",
    "    'filt_mode': '',  # GLM couplings\n",
    "    'map_mode': 'svgp-64',  # a sparse variational GP mapping with 64 inducing points\n",
    "    'x_mode': 'hd-omega-speed-x-y-time',  # observed covariates (behaviour)\n",
    "    'z_mode': '',  # latent covariates\n",
    "    'hist_len': 0,\n",
    "    'folds': 5,\n",
    "    'delays': [0],\n",
    "    'neurons': dataset_nonhdc['neurons'],\n",
    "    'max_count': dataset_nonhdc['max_count'],\n",
    "    'bin_size': dataset_nonhdc['bin_size'],\n",
    "    'tbin': dataset_nonhdc['tbin'],\n",
    "    'model_name': dataset_nonhdc['name'],\n",
    "    'tensor_type': torch.float,\n",
    "    'jitter': 1e-5,\n",
    "}\n",
    "\n",
    "checkpoint_dir = '../models/'\n",
    "cv_run = -1  # test set is last 1/5 of dataset time series\n",
    "delay = 0\n",
    "batch_size = 5000  # size of time segments of each batch in dataset below\n",
    "\n",
    "# model and train/test split based on which validation fold is given by cv_run\n",
    "modelfit_hdc, training_results_hdc, fit_set_hdc, validation_set_hdc = lib.models.load_model(\n",
    "    checkpoint_dir, model_dict_hdc, dataset_hdc, HDC.enc_used,\n",
    "    delay, cv_run, batch_size, gpu_dev\n",
    ")\n",
    "\n",
    "modelfit_nonhdc, training_results_nonhdc, fit_set_nonhdc, validation_set_nonhdc = lib.models.load_model(\n",
    "    checkpoint_dir, model_dict_nonhdc, dataset_nonhdc, HDC.enc_used,\n",
    "    delay, cv_run, batch_size, gpu_dev\n",
    ")"
   ],
   "metadata": {
    "collapsed": false,
    "pycharm": {
     "name": "#%%\n"
    }
   }
  },
  {
   "cell_type": "markdown",
   "source": [
    "## Compute spike count distributions and tuning curves"
   ],
   "metadata": {
    "collapsed": false,
    "pycharm": {
     "name": "#%% md\n"
    }
   }
  },
  {
   "cell_type": "code",
   "execution_count": 5,
   "outputs": [],
   "source": [
    "rcov = dataset_hdc['covariates']\n",
    "\n",
    "# check covariates are in the right order\n",
    "covkeys = ''\n",
    "for k in rcov.keys():\n",
    "    covkeys += k + '-'\n",
    "covkeys = covkeys[:-1]\n",
    "assert covkeys == model_dict_hdc['x_mode']\n"
   ],
   "metadata": {
    "collapsed": false,
    "pycharm": {
     "name": "#%%\n"
    }
   }
  },
  {
   "cell_type": "code",
   "execution_count": 7,
   "outputs": [],
   "source": [
    "def tuning_curve_1d(cov_name, use_neuron, modelfit, rcov, num_points=100, MC=30, batch_size=1000):\n",
    "    lower_limit = np.min(rcov[cov_name])\n",
    "    upper_limit = np.max(rcov[cov_name])\n",
    "    sweep = torch.linspace(lower_limit, upper_limit, num_points)[None, :]\n",
    "\n",
    "    rcov_matrix = [torch.tensor(rcov[k]) for k in rcov.keys()]\n",
    "    with torch.no_grad():\n",
    "        P_mc = lib.helper.marginalized_P(modelfit, sweep, [list(rcov.keys()).index(cov_name)], rcov_matrix, batch_size, use_neuron, MC)\n",
    "\n",
    "    return P_mc, sweep"
   ],
   "metadata": {
    "collapsed": false,
    "pycharm": {
     "name": "#%%\n"
    }
   }
  },
  {
   "cell_type": "code",
   "execution_count": 8,
   "outputs": [
    {
     "name": "stdout",
     "output_type": "stream",
     "text": [
      "0\n"
     ]
    },
    {
     "name": "stderr",
     "output_type": "stream",
     "text": [
      "C:\\Users\\valen\\UCM-interpret\\neuroprob\\mappings\\GP.py:47: UserWarning: torch.cholesky is deprecated in favor of torch.linalg.cholesky and will be removed in a future PyTorch release.\n",
      "L = torch.cholesky(A)\n",
      "should be replaced with\n",
      "L = torch.linalg.cholesky(A)\n",
      "and\n",
      "U = torch.cholesky(A, upper=True)\n",
      "should be replaced with\n",
      "U = torch.linalg.cholesky(A).mH().\n",
      "This transform will produce equivalent results for all valid (symmetric positive definite) inputs. (Triggered internally at  C:\\actions-runner\\_work\\pytorch\\pytorch\\builder\\windows\\pytorch\\aten\\src\\ATen\\native\\BatchLinearAlgebra.cpp:1755.)\n",
      "  Lff = Kff.cholesky() # N, N_u, N_u\n",
      "C:\\Users\\valen\\UCM-interpret\\neuroprob\\mappings\\GP.py:70: UserWarning: torch.triangular_solve is deprecated in favor of torch.linalg.solve_triangularand will be removed in a future PyTorch release.\n",
      "torch.linalg.solve_triangular has its arguments reversed and does not return a copy of one of the inputs.\n",
      "X = torch.triangular_solve(B, A).solution\n",
      "should be replaced with\n",
      "X = torch.linalg.solve_triangular(A, B). (Triggered internally at  C:\\actions-runner\\_work\\pytorch\\pytorch\\builder\\windows\\pytorch\\aten\\src\\ATen\\native\\BatchLinearAlgebra.cpp:2189.)\n",
      "  W = Kfs.triangular_solve(Lff, upper=False)[0]\n"
     ]
    },
    {
     "name": "stdout",
     "output_type": "stream",
     "text": [
      "1\n",
      "2\n",
      "3\n",
      "4\n",
      "5\n",
      "6\n",
      "7\n",
      "8\n",
      "9\n",
      "10\n",
      "11\n",
      "12\n",
      "13\n",
      "14\n",
      "15\n",
      "16\n",
      "17\n",
      "18\n",
      "19\n",
      "20\n",
      "21\n",
      "22\n",
      "23\n",
      "24\n",
      "25\n",
      "26\n",
      "27\n",
      "28\n",
      "29\n",
      "30\n",
      "31\n",
      "32\n",
      "33\n",
      "34\n",
      "35\n",
      "36\n",
      "37\n",
      "38\n",
      "39\n",
      "40\n",
      "41\n",
      "42\n",
      "43\n",
      "44\n",
      "45\n",
      "46\n",
      "47\n",
      "48\n",
      "49\n",
      "50\n",
      "51\n",
      "52\n",
      "53\n",
      "54\n",
      "55\n",
      "56\n",
      "57\n",
      "58\n",
      "59\n",
      "60\n",
      "61\n",
      "62\n",
      "63\n",
      "64\n",
      "65\n",
      "66\n",
      "67\n",
      "68\n",
      "69\n",
      "70\n",
      "71\n",
      "72\n",
      "73\n",
      "74\n",
      "75\n",
      "76\n",
      "77\n",
      "78\n",
      "79\n",
      "80\n",
      "81\n",
      "82\n",
      "83\n",
      "84\n",
      "85\n",
      "86\n",
      "87\n",
      "88\n",
      "89\n",
      "90\n",
      "91\n",
      "92\n",
      "93\n",
      "94\n",
      "95\n",
      "96\n",
      "97\n",
      "98\n",
      "99\n"
     ]
    }
   ],
   "source": [
    "neurons = list(range(dataset_hdc['neurons']))\n",
    "\n",
    "P_mc, sweep = tuning_curve_1d('hd', neurons, modelfit_hdc, rcov, batch_size=100)"
   ],
   "metadata": {
    "collapsed": false,
    "pycharm": {
     "name": "#%%\n"
    }
   }
  },
  {
   "cell_type": "code",
   "execution_count": 9,
   "outputs": [
    {
     "name": "stdout",
     "output_type": "stream",
     "text": [
      "torch.Size([30, 5, 100, 15])\n"
     ]
    }
   ],
   "source": [
    "P_mc_hdc = P_mc\n",
    "print(P_mc_hdc.shape)"
   ],
   "metadata": {
    "collapsed": false,
    "pycharm": {
     "name": "#%%\n"
    }
   }
  },
  {
   "cell_type": "code",
   "execution_count": 17,
   "outputs": [],
   "source": [
    "K = P_mc_hdc.shape[-1]\n",
    "counts = torch.arange(K)\n",
    "tbin = model_dict_hdc['tbin']\n",
    "\n",
    "hd_mean = (counts[None, None, None, :] * P_mc_hdc).sum(-1)  # (MC, neurons, steps)\n",
    "hd_rate = hd_mean / tbin  # in units of Hz\n",
    "hd_var = (counts[None, None, None, :]**2 * P_mc_hdc).sum(-1) - hd_mean**2\n",
    "hd_FF = hd_var / (hd_mean + 1e-12)"
   ],
   "metadata": {
    "collapsed": false,
    "pycharm": {
     "name": "#%%\n"
    }
   }
  },
  {
   "cell_type": "code",
   "execution_count": 32,
   "outputs": [],
   "source": [
    "def plot_tuning_curve(statistics, covariate, neuron=0, ax=None, xlabel=None, ylabel=None):\n",
    "\n",
    "    if ax is None:\n",
    "        fig, ax = plt.subplots()\n",
    "\n",
    "    lower, mean, upper = utils.signal.percentiles_from_samples(statistics, [0.05, 0.5, 0.95])\n",
    "\n",
    "    line, = ax.plot(covariate, mean[neuron, :].numpy())\n",
    "    ax.fill_between(\n",
    "        covariate, lower[neuron, :].numpy(), upper[neuron, :].numpy(),\n",
    "        color=line.get_color(), alpha=0.5\n",
    "    )\n",
    "\n",
    "    if ylabel is not None:\n",
    "        ax.set_ylabel(ylabel)\n",
    "    if xlabel is not None:\n",
    "        ax.set_xlabel(xlabel)\n",
    "    ax.set_xlim(0, np.max(covariate))\n",
    "    ax.set_xticks([0, np.max(covariate)/2, np.max(covariate)])\n",
    "    ax.set_xticklabels(['0', f'{np.max(covariate)/2 :.2f}', f'{np.max(covariate):.2f}'])"
   ],
   "metadata": {
    "collapsed": false,
    "pycharm": {
     "name": "#%%\n"
    }
   }
  },
  {
   "cell_type": "code",
   "execution_count": 33,
   "outputs": [
    {
     "data": {
      "text/plain": "<Figure size 640x480 with 1 Axes>",
      "image/png": "[encoded data removed]"
     },
     "metadata": {},
     "output_type": "display_data"
    }
   ],
   "source": [
    "x_sweep = sweep.numpy().flatten()\n",
    "\n",
    "plot_tuning_curve(hd_rate, x_sweep, neuron=0, xlabel='firing rate (Hz)', ylabel='head direction')"
   ],
   "metadata": {
    "collapsed": false,
    "pycharm": {
     "name": "#%%\n"
    }
   }
  },
  {
   "cell_type": "code",
   "execution_count": 37,
   "outputs": [
    {
     "data": {
      "text/plain": "<Figure size 1000x1000 with 5 Axes>",
      "image/png": "[encoded data removed]"
     },
     "metadata": {},
     "output_type": "display_data"
    }
   ],
   "source": [
    "plt.figure(figsize=(10, 10))\n",
    "\n",
    "for i in range(dataset_hdc['neurons']):\n",
    "    ax = plt.subplot(5, 5, i+1)\n",
    "    plot_tuning_curve(hd_rate, x_sweep, neuron=i, ax=ax)\n",
    "\n",
    "plt.tight_layout()\n",
    "plt.show()"
   ],
   "metadata": {
    "collapsed": false,
    "pycharm": {
     "name": "#%%\n"
    }
   }
  },
  {
   "cell_type": "markdown",
   "source": [
    "## Tuning curves of non-HD neurons"
   ],
   "metadata": {
    "collapsed": false,
    "pycharm": {
     "name": "#%% md\n"
    }
   }
  },
  {
   "cell_type": "code",
   "execution_count": null,
   "outputs": [
    {
     "name": "stdout",
     "output_type": "stream",
     "text": [
      "0\n",
      "1\n",
      "2\n",
      "3\n",
      "4\n",
      "5\n",
      "6\n",
      "7\n",
      "8\n",
      "9\n",
      "10\n"
     ]
    }
   ],
   "source": [
    "P_mc_nonhdc, sweep = tuning_curve_1d('hd', list(range(dataset_nonhdc['neurons'])), modelfit_nonhdc,\n",
    "rcov=dataset_nonhdc['covariates'], num_points=30, batch_size=100)\n",
    "\n",
    "K = P_mc_nonhdc.shape[-1]\n",
    "counts = torch.arange(K)\n",
    "tbin = model_dict_nonhdc['tbin']\n",
    "\n",
    "hd_mean = (counts[None, None, None, :] * P_mc_nonhdc).sum(-1)  # (MC, neurons, steps)\n",
    "hd_rate = hd_mean / tbin  # in units of Hz\n",
    "hd_var = (counts[None, None, None, :]**2 * P_mc_nonhdc).sum(-1) - hd_mean**2\n",
    "hd_FF = hd_var / (hd_mean + 1e-12)"
   ],
   "metadata": {
    "collapsed": false,
    "pycharm": {
     "name": "#%%\n",
     "is_executing": true
    }
   }
  },
  {
   "cell_type": "code",
   "execution_count": null,
   "outputs": [],
   "source": [
    "x_sweep = sweep.numpy().flatten()\n",
    "\n",
    "plt.figure(figsize=(10, 10))\n",
    "\n",
    "\n",
    "for i in range(dataset_hdc['neurons']):\n",
    "    ax = plt.subplot(5, 5, i+1)\n",
    "    plot_tuning_curve(hd_rate, x_sweep, neuron=i, ax=ax)\n",
    "\n",
    "plt.tight_layout()\n",
    "plt.show()"
   ],
   "metadata": {
    "collapsed": false,
    "pycharm": {
     "name": "#%%\n"
    }
   }
  },
  {
   "cell_type": "markdown",
   "source": [
    "## Tuning index computation"
   ],
   "metadata": {
    "collapsed": false,
    "pycharm": {
     "name": "#%% md\n"
    }
   }
  },
  {
   "cell_type": "code",
   "execution_count": 45,
   "outputs": [],
   "source": [
    "def tuning_index(hd_stat):\n",
    "\n",
    "    _, tc_mean, _ = utils.signal.percentiles_from_samples(hd_stat, [0.05, 0.5, 0.95])\n",
    "\n",
    "    tc_max = np.max(tc_mean, axis=1)\n",
    "    tc_min = np.min(tc_mean, axis=1)\n",
    "\n",
    "    return (tc_max - tc_min) / (tc_max + tc_min)"
   ],
   "metadata": {
    "collapsed": false,
    "pycharm": {
     "name": "#%%\n"
    }
   }
  },
  {
   "cell_type": "markdown",
   "source": [],
   "metadata": {
    "collapsed": false,
    "pycharm": {
     "name": "#%% md\n"
    }
   }
  },
  {
   "cell_type": "code",
   "execution_count": null,
   "outputs": [],
   "source": [],
   "metadata": {
    "collapsed": false,
    "pycharm": {
     "name": "#%%\n"
    }
   }
  }
 ],
 "metadata": {
  "kernelspec": {
   "display_name": "Python 3",
   "language": "python",
   "name": "python3"
  },
  "language_info": {
   "codemirror_mode": {
    "name": "ipython",
    "version": 2
   },
   "file_extension": ".py",
   "mimetype": "text/x-python",
   "name": "python",
   "nbconvert_exporter": "python",
   "pygments_lexer": "ipython2",
   "version": "2.7.6"
  }
 },
 "nbformat": 4,
 "nbformat_minor": 0
}
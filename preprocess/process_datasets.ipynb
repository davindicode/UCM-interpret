{
 "cells": [
  {
   "cell_type": "markdown",
   "metadata": {},
   "source": [
    "## Processing neural datasets\n",
    "Process neural datasets into python structures for smaller storage size and faster access"
   ]
  },
  {
   "cell_type": "code",
   "execution_count": 1,
   "metadata": {},
   "outputs": [],
   "source": [
    "%load_ext autoreload\n",
    "%autoreload 2\n",
    "\n",
    "\n",
    "import neural_datasets\n",
    "\n",
    "import os\n",
    "if not os.path.exists('../data'):\n",
    "    os.makedirs('../data')\n",
    "if not os.path.exists('../data/datasets'):\n",
    "    os.makedirs('../data/datasets')\n",
    "\n",
    "\n",
    "datadir = '/scratches/ramanujan_2/dl543/'\n",
    "datadir2 = '/scratches/sagarmatha_2/ktj21/data/crcns/'"
   ]
  },
  {
   "cell_type": "markdown",
   "metadata": {},
   "source": [
    "We load the dataset for one session from the original files downloaded from [CRCNR.org](https://crcns.org/), which is then preprocessed and put into a pickle file in the ```../data/datasets``` directory."
   ]
  },
  {
   "cell_type": "code",
   "execution_count": 5,
   "metadata": {},
   "outputs": [
    {
     "name": "stdout",
     "output_type": "stream",
     "text": [
      "Empty channel shank 0 cluster 1.\n",
      "Behaviour time bin size 0.0256 s.\n"
     ]
    }
   ],
   "source": [
    "# Mice sleep/wake exploration, head direction cells\n",
    "datadir2 = '/scratches/sagarmatha_2/ktj21/data/crcns/th-1/data/'\n",
    "k = 2\n",
    "\n",
    "if k == 0:\n",
    "    session_id = 'Mouse12-120806'\n",
    "    mouse_id = 'Mouse12'\n",
    "    channels = {\n",
    "        'ANT': [1, 2, 3, 4, 5, 6, 7, 8],\n",
    "        'mPFC': [9, 10, 11, 12],\n",
    "        'CA1': [13]\n",
    "                   }\n",
    "elif k == 1:\n",
    "    session_id = 'Mouse28-140313'\n",
    "    mouse_id = 'Mouse28'\n",
    "    channels = {\n",
    "        'PoS': [1, 2, 3, 4, 5, 6, 7], \n",
    "        'ANT': [8, 9, 10, 11]\n",
    "            }\n",
    "elif k == 2:\n",
    "    session_id = 'Mouse24-131213'\n",
    "    mouse_id = 'Mouse24'\n",
    "    channels = {\n",
    "        #'PoS': [1, 2, 3, 4],\n",
    "        'ANT': [5, 6, 7, 8]\n",
    "    }   \n",
    "else:\n",
    "    raise ValueError\n",
    "\n",
    "# behav_tbin = 0.025599999999940337\n",
    "\n",
    "phase = 'wake'\n",
    "savef = '../data/datasets/th1_{}_{}.p'.format(session_id, phase)\n",
    "neural_datasets.peyrache_th1(datadir2, mouse_id, session_id, savef, channels, phase)"
   ]
  },
  {
   "cell_type": "code",
   "execution_count": null,
   "metadata": {},
   "outputs": [],
   "source": []
  }
 ],
 "metadata": {
  "kernelspec": {
   "display_name": "Python 3 (ipykernel)",
   "language": "python",
   "name": "python3"
  },
  "language_info": {
   "codemirror_mode": {
    "name": "ipython",
    "version": 3
   },
   "file_extension": ".py",
   "mimetype": "text/x-python",
   "name": "python",
   "nbconvert_exporter": "python",
   "pygments_lexer": "ipython3",
   "version": "3.9.7"
  }
 },
 "nbformat": 4,
 "nbformat_minor": 4
}

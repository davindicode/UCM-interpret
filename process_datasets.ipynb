{
 "cells": [
  {
   "cell_type": "markdown",
   "metadata": {},
   "source": [
    "## Processing neural datasets\n",
    "Process neural datasets into python structures for smaller storage size and faster access"
   ]
  },
  {
   "cell_type": "code",
   "execution_count": 1,
   "metadata": {},
   "outputs": [],
   "source": [
    "%load_ext autoreload\n",
    "%autoreload 2\n",
    "\n",
    "\n",
    "import neural_datasets\n",
    "\n",
    "from pprint import pprint\n",
    "\n",
    "import os\n",
    "if not os.path.exists('../data'):\n",
    "    os.makedirs('../data')\n",
    "if not os.path.exists('../data/datasets'):\n",
    "    os.makedirs('../data/datasets')\n",
    "\n",
    "\n",
    "datadir = '/scratches/ramanujan_2/dl543/'\n",
    "datadir2 = '/scratches/sagarmatha_2/ktj21/data/crcns/'"
   ]
  },
  {
   "cell_type": "markdown",
   "metadata": {},
   "source": [
    "We load the dataset for one session from the original files downloaded from [CRCNR.org](https://crcns.org/), which is then preprocessed and put into a pickle file in the ```../data/datasets``` directory."
   ]
  },
  {
   "cell_type": "code",
   "execution_count": 2,
   "metadata": {},
   "outputs": [],
   "source": [
    "# Mice sleep/wake exploration, head direction cells\n",
    "datadir2 = '/scratches/sagarmatha_2/ktj21/data/crcns/th-1/data/'\n",
    "\n",
    "# descriptions are in the .xml files in each dataset folder, including medial-lateral separation of shanks\n",
    "def get_channels(mouse_id):\n",
    "    if mouse_id == 'Mouse12':\n",
    "        \"\"\"\n",
    "        Anterior Thalamus:\n",
    "        Electrode groups: 1-8.\n",
    "        8 shank probe, Neuronexus Buz64 design. Shank #1 is the most lateral, #8 the most medial\n",
    "        Probe is perpendicular to the midline (coronal plane), tilted by 15 degrees (tips pointed toward midline)\n",
    "        , mounted on a movable drive.\n",
    "        Insertion coordinates: AP -0.7mm, ML 0.5mm\n",
    "        Approx depth from surface: 2.97mm\n",
    "\n",
    "        medial Prefrontal (Prelimbic):\n",
    "        Electrode Groups: 9-12\n",
    "        4 tetrodes\n",
    "        Insertion coordinates: AP 1.78 - 1.94mm, ML 0.5mm, depth: 1.7mm\n",
    "\n",
    "        Hippocampus:\n",
    "        Electrode group: 14.\n",
    "        5 tungsten wires (fifty micrometer in diamater), one (at least) is in the pyramidal layer of CA1 as shown\n",
    "         by the presence of Sharp-Wave/Ripples.\n",
    "        Insertion coordinates: AP -2.2mm, ML 1.3mm, depth: 1.7mm\n",
    "        \"\"\"\n",
    "\n",
    "        channels = {\n",
    "            'ANT': [1, 2, 3, 4, 5, 6, 7, 8],\n",
    "            'mPFC': [9, 10, 11, 12, 13], \n",
    "            'CA1': [14]\n",
    "        }\n",
    "    elif mouse_id == 'Mouse28':\n",
    "        \"\"\"\n",
    "        Postsubiculum:\n",
    "        Electrode groups 1-7.\n",
    "        6 shank probe, Neuronexus Buz64sp design. Shank #1 is the most medial, #6 the most lateral, group #7 made\n",
    "         of the four sites located above 4th shank (see design).\n",
    "        Approx depth from surface: 1.28mm\n",
    "\n",
    "        Anterior thalamus:\n",
    "        Electrode groups 8-11.\n",
    "        4 shank probe, Neuronexus Buz32 design. Shank #8 is the most lateral, #11 the most medial.\n",
    "        Approx depth from surface: 2.56mm</description>\n",
    "        \"\"\"\n",
    "        channels = {\n",
    "            'PoS': [1, 2, 3, 4, 5, 6, 7], \n",
    "            'ANT': [8, 9, 10, 11]\n",
    "        }\n",
    "\n",
    "    elif mouse_id == 'Mouse24':\n",
    "        \"\"\"\n",
    "        Post-subiculum:\n",
    "        Electrode Groups: 1-4\n",
    "        4 shank probe, Neuronexus Buz32 design. Shank #1 is the most medial, #4 the most lateral\n",
    "        Probe is perpendicular to the midline (coronal plane), tilted by 10 degrees (tips pointed away from midli\n",
    "        ne), mounted on a movable drive.\n",
    "        Insertion coordinates: AP -4.25mm, ML 1.2-1.9mm\n",
    "        Approx depth from surface: 1.06mm\n",
    "\n",
    "        Anterior Thalamus:\n",
    "        Electrode groups: 5-8.\n",
    "        4 shank probe, Neuronexus Buz32 design. Shank #1 (5th electrode group) is the most lateral, #4 (8th elect\n",
    "        rode group) the most medial\n",
    "        Probe is perpendicular to the midline (coronal plane), mounted on a movable drive.\n",
    "        Insertion coordinates: AP -0.7mm, ML 0.5-1.2mm\n",
    "        Approx depth from surface: 3.11mm\n",
    "        \"\"\"\n",
    "        channels = {\n",
    "            'PoS': [1, 2, 3, 4],\n",
    "            'ANT': [5, 6, 7, 8]\n",
    "        }\n",
    "\n",
    "    elif mouse_id == 'Mouse25':\n",
    "        \"\"\"\n",
    "        Post-subiculum:\n",
    "        Electrode Groups: 1-4\n",
    "        4 shank probe, Neuronexus Buz32 design. Shank #1 is the most medial, #4 the most lateral\n",
    "        Probe is perpendicular to the midline (coronal plane), tilted by 10 degrees (tips pointed away from midli\n",
    "        ne), mounted on a movable drive.\n",
    "        Insertion coordinates: AP -4.25mm, ML 1.2-1.9mm\n",
    "        Approx depth from surface: 2.4mm\n",
    "\n",
    "        Anterior Thalamus:\n",
    "        Electrode groups: 5-8.\n",
    "        4 shank probe, Neuronexus Buz32 design. Shank #1 (5th electrode group) is the most lateral, #4 (8th elect\n",
    "        rode group) the most medial\n",
    "        Probe is perpendicular to the midline (coronal plane), mounted on a movable drive.\n",
    "        Insertion coordinates: AP -0.7mm, ML 0.5-1.2mm\n",
    "        Approx depth from surface: 2.72mm</description>\n",
    "        \"\"\"\n",
    "        channels = {\n",
    "            'PoS': [1, 2, 3, 4],\n",
    "            'ANT': [5, 6, 7, 8]\n",
    "        }\n",
    "    else:\n",
    "        raise ValueError\n",
    "        \n",
    "    return channels\n",
    "\n"
   ]
  },
  {
   "cell_type": "code",
   "execution_count": null,
   "metadata": {},
   "outputs": [],
   "source": []
  },
  {
   "cell_type": "code",
   "execution_count": 3,
   "metadata": {
    "scrolled": true
   },
   "outputs": [
    {
     "name": "stdout",
     "output_type": "stream",
     "text": [
      "{ 'wake': [{'start': 5565.0, 'end': 7851.4}],\n",
      "  'REM': [ {'start': 17.0, 'end': 48.0},\n",
      "           {'start': 324.0, 'end': 352.0},\n",
      "           {'start': 420.0, 'end': 456.0},\n",
      "           {'start': 1097.0, 'end': 1124.0},\n",
      "           {'start': 1219.0, 'end': 1230.0},\n",
      "           {'start': 1250.0, 'end': 1278.0},\n",
      "           {'start': 1554.0, 'end': 1569.0},\n",
      "           {'start': 1623.0, 'end': 1640.0},\n",
      "           {'start': 1676.0, 'end': 1690.0},\n",
      "           {'start': 1896.0, 'end': 2026.0},\n",
      "           {'start': 3529.0, 'end': 3668.0},\n",
      "           {'start': 4322.0, 'end': 4338.0},\n",
      "           {'start': 4398.0, 'end': 4410.0},\n",
      "           {'start': 10684.0, 'end': 10697.0},\n",
      "           {'start': 12990.0, 'end': 13077.0},\n",
      "           {'start': 16112.0, 'end': 16299.0},\n",
      "           {'start': 17096.0, 'end': 17122.0},\n",
      "           {'start': 17761.0, 'end': 17826.0},\n",
      "           {'start': 18189.0, 'end': 18205.0},\n",
      "           {'start': 21082.0, 'end': 21118.0},\n",
      "           {'start': 21238.0, 'end': 21268.0},\n",
      "           {'start': 21475.0, 'end': 21770.0},\n",
      "           {'start': 22954.0, 'end': 23084.0}],\n",
      "  'SWS': [ {'start': 233.0, 'end': 324.0},\n",
      "           {'start': 352.0, 'end': 413.0},\n",
      "           {'start': 456.0, 'end': 745.0},\n",
      "           {'start': 907.0, 'end': 1097.0},\n",
      "           {'start': 1124.0, 'end': 1210.0},\n",
      "           {'start': 1278.0, 'end': 1393.0},\n",
      "           {'start': 1412.0, 'end': 1554.0},\n",
      "           {'start': 1710.0, 'end': 1896.0},\n",
      "           {'start': 2263.0, 'end': 2917.0},\n",
      "           {'start': 2938.0, 'end': 3299.0},\n",
      "           {'start': 3370.0, 'end': 3529.0},\n",
      "           {'start': 3734.0, 'end': 4019.0},\n",
      "           {'start': 4103.0, 'end': 4322.0},\n",
      "           {'start': 5415.0, 'end': 5518.0},\n",
      "           {'start': 9048.0, 'end': 9283.0},\n",
      "           {'start': 9379.0, 'end': 9448.0},\n",
      "           {'start': 9577.0, 'end': 9733.0},\n",
      "           {'start': 9799.0, 'end': 10118.0},\n",
      "           {'start': 10226.0, 'end': 10684.0},\n",
      "           {'start': 10697.0, 'end': 10824.0},\n",
      "           {'start': 10880.0, 'end': 11198.0},\n",
      "           {'start': 12565.0, 'end': 12977.0},\n",
      "           {'start': 13213.0, 'end': 13430.0},\n",
      "           {'start': 13635.0, 'end': 14282.0},\n",
      "           {'start': 14909.0, 'end': 15146.0},\n",
      "           {'start': 15574.0, 'end': 15756.0},\n",
      "           {'start': 15775.0, 'end': 15919.0},\n",
      "           {'start': 16000.0, 'end': 16112.0},\n",
      "           {'start': 16476.0, 'end': 16862.0},\n",
      "           {'start': 16903.0, 'end': 17083.0},\n",
      "           {'start': 17154.0, 'end': 17718.0},\n",
      "           {'start': 17826.0, 'end': 18182.0},\n",
      "           {'start': 20728.0, 'end': 21082.0},\n",
      "           {'start': 21118.0, 'end': 21238.0},\n",
      "           {'start': 21268.0, 'end': 21474.0},\n",
      "           {'start': 21770.0, 'end': 21871.0},\n",
      "           {'start': 22009.0, 'end': 22287.0},\n",
      "           {'start': 22490.0, 'end': 22953.0},\n",
      "           {'start': 23240.0, 'end': 23333.0},\n",
      "           {'start': 23405.0, 'end': 23572.0},\n",
      "           {'start': 23760.0, 'end': 24012.0},\n",
      "           {'start': 24073.0, 'end': 24296.0},\n",
      "           {'start': 25150.0, 'end': 25310.0},\n",
      "           {'start': 25518.0, 'end': 25674.0},\n",
      "           {'start': 25965.0, 'end': 26548.0}]}\n",
      "Behaviour time bin size 2.56e-02 s.\n",
      "[5565.0048  5565.00485 5565.0049  ... 7851.39185 7851.3919  7851.39195]\n",
      "[5565.0048 5565.0304 5565.056  ... 7851.3408 7851.3664 7851.392 ]\n"
     ]
    }
   ],
   "source": [
    "mouse_ids = ['Mouse28']#['Mouse24', 'Mouse24', 'Mouse28', 'Mouse28', 'Mouse25', 'Mouse25'] # 'Mouse12'\n",
    "session_ids = ['140313']#['131213', '131216', '140312', '140313', '140123', '140124'] # '120806'\n",
    "\n",
    "\n",
    "for mouse_id, session_id in zip(mouse_ids, session_ids):\n",
    "    channels = get_channels(mouse_id)\n",
    "    data_class = neural_datasets.peyrache_th1(datadir2, mouse_id, session_id, channels)\n",
    "\n",
    "    periods = data_class.get_periods()\n",
    "    pprint(periods, indent=2, sort_dicts=False)\n",
    "    \n",
    "    time_limits = [periods['wake'][0]['start'], periods['wake'][0]['end']]  # pick wake session\n",
    "    phase = 'wake'\n",
    "    savef = '../data/datasets/th1_{}_{}_{}.p'.format(mouse_id, session_id, phase)\n",
    "\n",
    "    data_class.load_preprocess_save(savef, time_limits)  # save to file"
   ]
  },
  {
   "cell_type": "code",
   "execution_count": null,
   "metadata": {},
   "outputs": [],
   "source": []
  },
  {
   "cell_type": "code",
   "execution_count": 7,
   "metadata": {},
   "outputs": [
    {
     "name": "stdout",
     "output_type": "stream",
     "text": [
      "Behaviour time bin size 2.56e-02 s.\n",
      "Empty channel shank 4 cluster 1.\n"
     ]
    }
   ],
   "source": [
    "time_limits = [periods['wake'][0]['start'], periods['wake'][0]['end']]  # pick wake session\n",
    "d = data_class.load_preprocess_save(None, time_limits)"
   ]
  },
  {
   "cell_type": "code",
   "execution_count": 8,
   "metadata": {},
   "outputs": [
    {
     "data": {
      "image/png": "[encoded data removed]",
      "text/plain": [
       "<Figure size 432x288 with 1 Axes>"
      ]
     },
     "metadata": {
      "needs_background": "light"
     },
     "output_type": "display_data"
    },
    {
     "data": {
      "image/png": "[encoded data removed]",
      "text/plain": [
       "<Figure size 432x288 with 1 Axes>"
      ]
     },
     "metadata": {
      "needs_background": "light"
     },
     "output_type": "display_data"
    }
   ],
   "source": [
    "import matplotlib.pyplot as plt\n",
    "\n",
    "plt.plot(d['covariates']['x'][:1000000], d['covariates']['y'][:1000000])\n",
    "plt.show()\n",
    "\n",
    "plt.plot(d['covariates']['hd'][:1000000])\n",
    "plt.show()"
   ]
  },
  {
   "cell_type": "code",
   "execution_count": 9,
   "metadata": {},
   "outputs": [
    {
     "data": {
      "text/plain": [
       "{'HD': [], 'XY': [{'index': 0, 'length': 1281}]}"
      ]
     },
     "execution_count": 9,
     "metadata": {},
     "output_type": "execute_result"
    }
   ],
   "source": [
    "d['covariates']['invalid_behaviour']"
   ]
  },
  {
   "cell_type": "code",
   "execution_count": null,
   "metadata": {},
   "outputs": [],
   "source": []
  },
  {
   "cell_type": "code",
   "execution_count": null,
   "metadata": {},
   "outputs": [],
   "source": []
  }
 ],
 "metadata": {
  "kernelspec": {
   "display_name": "py3_9",
   "language": "python",
   "name": "py3_9"
  },
  "language_info": {
   "codemirror_mode": {
    "name": "ipython",
    "version": 3
   },
   "file_extension": ".py",
   "mimetype": "text/x-python",
   "name": "python",
   "nbconvert_exporter": "python",
   "pygments_lexer": "ipython3",
   "version": "3.9.7"
  }
 },
 "nbformat": 4,
 "nbformat_minor": 4
}

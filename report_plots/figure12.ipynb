{
 "cells": [
  {
   "cell_type": "code",
   "execution_count": 1,
   "metadata": {},
   "outputs": [
    {
     "name": "stdout",
     "output_type": "stream",
     "text": [
      "PyTorch version: 1.13.1+cu117\n",
      "Using device: cuda:0\n"
     ]
    }
   ],
   "source": [
    "import numpy as np\n",
    "import scipy as sc\n",
    "\n",
    "import torch\n",
    "import torch.nn as nn\n",
    "from torch.nn.parameter import Parameter\n",
    "import torch.nn.functional as F\n",
    "import torch.optim as optim\n",
    "\n",
    "\n",
    "# add paths to access shared code\n",
    "import sys\n",
    "sys.path.append(\"..\")\n",
    "sys.path.append(\"../scripts/\")\n",
    "\n",
    "# import library implementing models\n",
    "import neuroprob as nprb\n",
    "from neuroprob import utils\n",
    "\n",
    "# import utility code for model building/training/loading\n",
    "import lib\n",
    "import HDC\n",
    "\n",
    "# get GPU device if available\n",
    "gpu_dev = 0\n",
    "dev = utils.pytorch.get_device(gpu=gpu_dev)\n",
    "\n",
    "# use custom plotting settings\n",
    "import matplotlib.pyplot as plt\n",
    "import matplotlib.gridspec as gridspec\n",
    "plt.style.use('../report_plots/report.mplstyle')\n",
    "\n",
    "# useful colormap\n",
    "white = '#ffffff'\n",
    "red = '#ff0000'\n",
    "blue = '#0000ff'\n",
    "weight_map = utils.plot.make_cmap([blue, white, red], 'weight_map')\n",
    "\n",
    "\n",
    "import warnings\n",
    "warnings.simplefilter('ignore')\n"
   ]
  },
  {
   "attachments": {},
   "cell_type": "markdown",
   "metadata": {},
   "source": [
    "# Figure 12"
   ]
  },
  {
   "cell_type": "code",
   "execution_count": 2,
   "metadata": {},
   "outputs": [],
   "source": [
    "mice_sessions = {\n",
    "    'Mouse12': ['120806'],\n",
    "    'Mouse17': ['130125', '130128', '130131', '130202', '130203'],\n",
    "    'Mouse20': ['130514', '130515', '130516', '130517'],\n",
    "    'Mouse24': ['131213', '131217', '131218'],\n",
    "    'Mouse25': ['140124', '140128', '140129'],\n",
    "    'Mouse28': ['140310']\n",
    "} \n",
    "\n",
    "phase = 'wake'\n",
    "\n",
    "bin_size = 160  # ms\n",
    "single_spikes = False\n",
    "\n",
    "delay = 0\n",
    "batch_size = 1000  # size of time segments of each batch in dataset below\n",
    "cv_run = -1\n",
    "\n",
    "\n",
    "checkpoint_dir = '/scratches/ramanujan_2/vn283/HDC_PartIII/checkpoint/'\n",
    "data_dir = '/scratches/ramanujan_2/vn283/HDC_PartIII/preprocessed/'\n",
    "\n",
    "def load_tc_data(datadir, mouse_id, session_id, subset, phase='wake'):\n",
    "    data = np.load(datadir + f'{mouse_id}_{session_id}_{phase}_{subset}.npz')\n",
    "    tc_rates = data['tuning_curves_rates']  # (neurons, num_cov, steps)\n",
    "    tc_FF = data['tuning_curves_FF']  # (neurons, num_cov, steps)\n",
    "    tc_cov = data['tuning_curves_covariates']  # (num_cov, steps)\n",
    "    \n",
    "    return tc_rates, tc_FF, tc_cov\n",
    "\n",
    "def tuning_index(hd_stat):\n",
    "    \"\"\"Compute the tuning index of a tuning curve with a given statistics of spike count distributions.\"\"\"\n",
    "    tc_max = np.max(hd_stat, axis=-1)\n",
    "    tc_min = np.min(hd_stat, axis=-1)\n",
    "\n",
    "    return (tc_max - tc_min) / (tc_max + tc_min)"
   ]
  },
  {
   "cell_type": "code",
   "execution_count": 3,
   "metadata": {},
   "outputs": [
    {
     "name": "stdout",
     "output_type": "stream",
     "text": [
      "units:  85  hdc units:  22\n",
      "units:  85  hdc units:  22\n",
      "units:  21  hdc units:  2\n",
      "units:  21  hdc units:  2\n",
      "units:  46  hdc units:  7\n",
      "units:  46  hdc units:  7\n",
      "units:  50  hdc units:  7\n",
      "units:  50  hdc units:  7\n",
      "units:  55  hdc units:  5\n",
      "units:  55  hdc units:  5\n",
      "units:  59  hdc units:  7\n",
      "units:  59  hdc units:  7\n",
      "units:  11  hdc units:  2\n",
      "units:  11  hdc units:  2\n",
      "units:  13  hdc units:  4\n",
      "units:  13  hdc units:  4\n",
      "units:  17  hdc units:  4\n",
      "units:  17  hdc units:  4\n",
      "units:  22  hdc units:  6\n",
      "units:  22  hdc units:  6\n",
      "units:  28  hdc units:  5\n",
      "units:  28  hdc units:  5\n",
      "units:  40  hdc units:  11\n",
      "units:  40  hdc units:  11\n",
      "units:  43  hdc units:  11\n",
      "units:  43  hdc units:  11\n",
      "units:  36  hdc units:  10\n",
      "units:  36  hdc units:  10\n",
      "units:  32  hdc units:  5\n",
      "units:  32  hdc units:  5\n",
      "units:  33  hdc units:  11\n",
      "units:  33  hdc units:  11\n",
      "units:  56  hdc units:  14\n",
      "units:  56  hdc units:  14\n"
     ]
    }
   ],
   "source": [
    "tc_datadir = '/scratches/ramanujan_2/vn283/HDC_PartIII/tc_data/'\n",
    "\n",
    "tuning_curves_rates = np.empty((0, 6, 100))  # we have 6 covariates, so 6 features\n",
    "tuning_curves_FF = np.empty((0, 6, 100))\n",
    "\n",
    "label_hdc = np.empty((0,))\n",
    "\n",
    "for mouse_id in mice_sessions.keys():\n",
    "    for session_id in mice_sessions[mouse_id]:\n",
    "        for subset in ['hdc', 'nonhdc']:\n",
    "            dataset_dict = HDC.get_dataset(mouse_id, session_id, phase, subset, bin_size, \n",
    "                                               single_spikes, path=data_dir)\n",
    "            tc_rates, tc_FF, tc_cov = load_tc_data(tc_datadir, mouse_id, session_id, subset)\n",
    "            tuning_curves_rates = np.concatenate((tuning_curves_rates, tc_rates), axis=0)\n",
    "            tuning_curves_FF = np.concatenate((tuning_curves_FF, tc_FF), axis=0)\n",
    "            \n",
    "            if subset == 'hdc':\n",
    "                label_hdc = np.concatenate((label_hdc, np.ones(tc_rates.shape[0])))\n",
    "            else:\n",
    "                label_hdc = np.concatenate((label_hdc, np.zeros(tc_rates.shape[0])))\n"
   ]
  },
  {
   "cell_type": "code",
   "execution_count": 4,
   "metadata": {},
   "outputs": [],
   "source": [
    "correlations = np.empty((0,))\n",
    "\n",
    "\n",
    "for ne in range(label_hdc.shape[0]):\n",
    "    C = np.corrcoef(np.gradient(tuning_curves_rates[ne,0,:])**2, tuning_curves_FF[ne,0,:])\n",
    "    correlations = np.append(correlations, C[0,1])"
   ]
  },
  {
   "cell_type": "code",
   "execution_count": 25,
   "metadata": {},
   "outputs": [
    {
     "data": {
      "image/png": "[encoded data removed]",
      "text/plain": [
       "<Figure size 700x200 with 2 Axes>"
      ]
     },
     "metadata": {},
     "output_type": "display_data"
    }
   ],
   "source": [
    "fig = plt.figure(figsize=(7,2))\n",
    "\n",
    "fig.text(0.07, 0.93, 'A', transform=fig.transFigure, size=15, fontweight='bold')\n",
    "fig.text(0.51, 0.93, 'B', transform=fig.transFigure, size=15, fontweight='bold')\n",
    "\n",
    "gs = gridspec.GridSpec(1,2,fig, wspace=0.3)\n",
    "\n",
    "\n",
    "colors = ['mediumblue', 'crimson']\n",
    "legendsize=10\n",
    "\n",
    "ax = fig.add_subplot(gs[0])\n",
    "ax.hist(correlations, bins=40, label='all neurons', color=colors[0], alpha=0.8)\n",
    "ax.set_xlabel('Correlation coefficient')\n",
    "ax.set_ylabel('Number of neurons')\n",
    "ax.spines[['top', 'right']].set_visible(False)\n",
    "ax.legend(prop={'size': 8}, frameon=False)\n",
    "\n",
    "ax = fig.add_subplot(gs[1])\n",
    "ax.hist(correlations[np.invert(label_hdc.astype(bool))], bins=40, label='non-HD units', color=colors[0], alpha=0.8)\n",
    "ax.hist(correlations[label_hdc.astype(bool)], bins=40, label='HD units', color=colors[1], alpha=0.8)\n",
    "ax.set_xlabel('Correlation coefficient')\n",
    "ax.set_ylabel('Number of neurons')\n",
    "ax.legend(prop={'size': 8}, frameon=False)\n",
    "\n",
    "ax.spines[['top', 'right']].set_visible(False)\n",
    "\n",
    "fig.savefig(\"/homes/vn283/UCM-interpret/figures/correlations.pdf\", format=\"pdf\", bbox_inches=\"tight\")"
   ]
  }
 ],
 "metadata": {
  "kernelspec": {
   "display_name": "py3_9env",
   "language": "python",
   "name": "python3"
  },
  "language_info": {
   "codemirror_mode": {
    "name": "ipython",
    "version": 3
   },
   "file_extension": ".py",
   "mimetype": "text/x-python",
   "name": "python",
   "nbconvert_exporter": "python",
   "pygments_lexer": "ipython3",
   "version": "3.9.16"
  },
  "orig_nbformat": 4
 },
 "nbformat": 4,
 "nbformat_minor": 2
}

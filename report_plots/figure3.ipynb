{
 "cells": [
  {
   "cell_type": "code",
   "execution_count": 1,
   "metadata": {},
   "outputs": [
    {
     "name": "stdout",
     "output_type": "stream",
     "text": [
      "PyTorch version: 1.13.1+cu117\n",
      "Using device: cuda:1\n"
     ]
    }
   ],
   "source": [
    "import numpy as np\n",
    "import scipy as sc\n",
    "\n",
    "import torch\n",
    "import torch.nn as nn\n",
    "from torch.nn.parameter import Parameter\n",
    "import torch.nn.functional as F\n",
    "import torch.optim as optim\n",
    "\n",
    "\n",
    "import matplotlib.pyplot as plt\n",
    "import matplotlib.gridspec as gridspec\n",
    "from sklearn.decomposition import PCA\n",
    "import pickle\n",
    "import umap\n",
    "\n",
    "# add paths to access shared code\n",
    "import sys\n",
    "sys.path.append(\"..\")\n",
    "sys.path.append(\"../scripts/\")\n",
    "\n",
    "# import library implementing models\n",
    "import neuroprob as nprb\n",
    "from neuroprob import utils\n",
    "\n",
    "# import utility code for model building/training/loading\n",
    "import lib\n",
    "import HDC\n",
    "\n",
    "# get GPU device if available\n",
    "gpu_dev = 1\n",
    "dev = utils.pytorch.get_device(gpu=gpu_dev)\n",
    "\n",
    "# use custom plotting settings\n",
    "import matplotlib.pyplot as plt\n",
    "import matplotlib\n",
    "plt.style.use('../report_plots/report.mplstyle')\n",
    "\n",
    "\n",
    "# useful colormap\n",
    "white = '#ffffff'\n",
    "red = '#ff0000'\n",
    "blue = '#0000ff'\n",
    "weight_map = utils.plot.make_cmap([blue, white, red], 'weight_map')\n",
    "\n",
    "\n",
    "import warnings\n",
    "warnings.simplefilter('ignore')"
   ]
  },
  {
   "attachments": {},
   "cell_type": "markdown",
   "metadata": {},
   "source": [
    "# Figure 3"
   ]
  },
  {
   "cell_type": "code",
   "execution_count": 2,
   "metadata": {},
   "outputs": [
    {
     "name": "stdout",
     "output_type": "stream",
     "text": [
      "units:  85  hdc units:  22\n"
     ]
    }
   ],
   "source": [
    "mouse_id = 'Mouse12'\n",
    "session_id = '120806'\n",
    "subset = 'hdc'\n",
    "phase = 'wake'\n",
    "bin_size = 50\n",
    "single_spikes = False\n",
    "data_dir = '/scratches/ramanujan_2/vn283/HDC_PartIII/preprocessed/'\n",
    "checkpoint_dir = '/scratches/ramanujan_2/vn283/HDC_PartIII/checkpoint/'\n",
    "cv_run = -1 \n",
    "delay = 0\n",
    "batch_size = 500  # size of time segments of each batch in dataset below\n",
    "\n",
    "dataset_dict = HDC.get_dataset(mouse_id, session_id, phase, subset, bin_size, \n",
    "                                    single_spikes, path=data_dir)\n",
    "model_dict = {\n",
    "                'seed': 123, \n",
    "                'll_mode': 'U-qd-3', \n",
    "                'filt_mode': '',\n",
    "                'map_mode': 'svgp-64',\n",
    "                'x_mode': 'hd-omega-speed-x-y-time',\n",
    "                'z_mode': '', \n",
    "                'hist_len': 0, \n",
    "                'folds': 5, \n",
    "                'delays': [0], \n",
    "                'neurons': dataset_dict['neurons'], \n",
    "                'max_count': dataset_dict['max_count'], \n",
    "                'bin_size': dataset_dict['bin_size'], \n",
    "                'tbin': dataset_dict['tbin'], \n",
    "                'model_name': dataset_dict['name'], \n",
    "                'tensor_type': torch.float, \n",
    "                'jitter': 1e-5, \n",
    "            }\n",
    "\n",
    "# model and train/test split based on which validation fold is given by cv_run\n",
    "modelfit, training_results, fit_set, validation_set = lib.models.load_model(\n",
    "    checkpoint_dir, model_dict, dataset_dict, HDC.enc_used, \n",
    "    delay, cv_run, batch_size, gpu_dev\n",
    ")"
   ]
  },
  {
   "cell_type": "code",
   "execution_count": 3,
   "metadata": {},
   "outputs": [],
   "source": [
    "rcov = np.empty((0, dataset_dict['covariates']['hd'].shape[0]))\n",
    "\n",
    "for cov in ['hd', 'omega', 'speed', 'x', 'y', 'time']:\n",
    "    rcov = np.concatenate((rcov, dataset_dict['covariates'][cov][None, :]), axis=0)\n",
    "hd_sweep = torch.linspace(0, 2*np.pi, 100)\n",
    "covariates = torch.cat([\n",
    "    hd_sweep[:, None], \n",
    "    *[rcov[k].mean()*torch.ones((100, 1)) for k in range(1, len(rcov))], \n",
    "], dim=-1)[None, None, ...]  # (tr, neurons, steps, covariate dims)\n",
    "\n",
    "with torch.no_grad():\n",
    "    P_mc = lib.helper.compute_P(\n",
    "        modelfit, covariates, list(range(dataset_dict['neurons'])), MC=30, trials=1)  # predictive posterior\n",
    "P_mc = P_mc.cpu()  "
   ]
  },
  {
   "cell_type": "code",
   "execution_count": 4,
   "metadata": {},
   "outputs": [
    {
     "data": {
      "image/png": "[encoded data removed]",
      "text/plain": [
       "<Figure size 800x400 with 3 Axes>"
      ]
     },
     "metadata": {},
     "output_type": "display_data"
    }
   ],
   "source": [
    "# histograms\n",
    "lower, mean, upper = utils.signal.percentiles_from_samples(P_mc, [0.05, 0.5, 0.95])\n",
    "\n",
    "\n",
    "fig = plt.figure(figsize=(8, 4))\n",
    "widths = [1, 1, 1]\n",
    "heights = [1]\n",
    "\n",
    "spec = fig.add_gridspec(ncols=len(widths), nrows=len(heights), width_ratios=widths, \n",
    "                        height_ratios=heights, wspace=0.3)\n",
    "\n",
    "ne = 2  # select neuron\n",
    "K = P_mc.shape[-1]\n",
    "for en, step_ind in enumerate([50, 55, 60]):\n",
    "    ax = fig.add_subplot(spec[0, en])\n",
    "    hd = hd_sweep[step_ind]\n",
    "    #ax.set_title(r'$\\theta_{hd} = $' + '{:.1f}'.format(hd / np.pi * 180) + r'$^{\\circ}$')\n",
    "    \n",
    "    for k in range(K):\n",
    "        XX_ = np.linspace(k-0.5, k+0.5, 2)\n",
    "        YY_ = np.ones(2)*mean.numpy()[ne, step_ind, k]\n",
    "        YY_l = np.ones(2)*lower.numpy()[ne, step_ind, k]\n",
    "        YY_u = np.ones(2)*upper.numpy()[ne, step_ind, k]\n",
    "        line, = ax.plot(XX_, YY_, c='tab:blue', alpha=1.)\n",
    "        ax.fill_between(XX_, YY_l, \n",
    "            YY_u, color=line.get_color(), alpha=0.3)\n",
    "\n",
    "\n",
    "    ax.set_xlim([-0.5, K-1+.5])\n",
    "    ax.set_ylim(0, 0.4)\n",
    "    ax.set_xticks(np.arange(K))\n",
    "    ax.spines[['top', 'right']].set_visible(False)\n",
    "    if en > 0:\n",
    "        ax.set_yticks([])\n",
    "\n",
    "    if en == 0:\n",
    "        ax.set_ylabel('count probability', labelpad=5)\n",
    "    ax.set_xlabel('# spikes', labelpad=5)\n",
    "\n",
    "plt.show()\n",
    "fig.savefig(\"/homes/vn283/UCM-interpret/figures/SCDs.pdf\", format=\"pdf\", bbox_inches=\"tight\")"
   ]
  },
  {
   "cell_type": "code",
   "execution_count": 5,
   "metadata": {},
   "outputs": [],
   "source": [
    "K = P_mc.shape[-1]\n",
    "counts = torch.arange(K)\n",
    "\n",
    "hd_mean = (counts[None, None, None, :] * P_mc).sum(-1)  # (MC, neurons, steps)\n",
    "hd_rate = hd_mean / dataset_dict['tbin']  # in units of Hz\n",
    "hd_var = (counts[None, None, None, :]**2 * P_mc).sum(-1) - hd_mean**2\n",
    "hd_FF = hd_var / (hd_mean + 1e-12)"
   ]
  },
  {
   "cell_type": "code",
   "execution_count": 6,
   "metadata": {},
   "outputs": [
    {
     "data": {
      "image/png": "[encoded data removed]",
      "text/plain": [
       "<Figure size 198x118 with 1 Axes>"
      ]
     },
     "metadata": {},
     "output_type": "display_data"
    },
    {
     "data": {
      "image/png": "[encoded data removed]",
      "text/plain": [
       "<Figure size 198x118 with 1 Axes>"
      ]
     },
     "metadata": {},
     "output_type": "display_data"
    }
   ],
   "source": [
    "fig, ax = plt.subplots(figsize=(1.98,1.18))\n",
    "\n",
    "\n",
    "lower, mean, upper = utils.signal.percentiles_from_samples(hd_rate, [0.05, 0.5, 0.95])\n",
    "ne = 7  # select neuron to plot\n",
    "\n",
    "line, = ax.plot(hd_sweep.numpy(), mean[ne, :].numpy())\n",
    "ax.fill_between(\n",
    "    hd_sweep.numpy(), lower[ne, :].numpy(), upper[ne, :].numpy(), \n",
    "    color=line.get_color(), alpha=0.5\n",
    ")\n",
    "ax.set_ylabel('Firing rate [Hz]')\n",
    "ax.set_xlabel('Head direction [rad]')\n",
    "ax.set_xlim(0, 2*np.pi)\n",
    "ax.set_xticks([0, np.pi, 2*np.pi])\n",
    "ax.set_xticklabels([r'$0$', r'$\\pi$', r'$2\\pi$'])\n",
    "ax.spines[['top', 'right']].set_visible(False)\n",
    "plt.show()\n",
    "fig.savefig(\"/homes/vn283/UCM-interpret/figures/mean_tc.pdf\", format=\"pdf\", bbox_inches=\"tight\")\n",
    "\n",
    "\n",
    "fig, ax = plt.subplots(figsize=(1.98,1.18))\n",
    "\n",
    "lower, mean, upper = utils.signal.percentiles_from_samples(hd_FF, [0.05, 0.5, 0.95])\n",
    "\n",
    "line, = ax.plot(hd_sweep.numpy(), mean[ne, :].numpy())\n",
    "ax.fill_between(\n",
    "    hd_sweep.numpy(), lower[ne, :].numpy(), upper[ne, :].numpy(), \n",
    "    color=line.get_color(), alpha=0.5\n",
    ")\n",
    "ax.set_ylabel('Fano factor')\n",
    "ax.set_xlabel('Head direction [rad]')\n",
    "ax.set_xlim(0, 2*np.pi)\n",
    "ax.set_xticks([0, np.pi, 2*np.pi])\n",
    "ax.set_xticklabels([r'$0$', r'$\\pi$', r'$2\\pi$'])\n",
    "ax.spines[['top', 'right']].set_visible(False)\n",
    "\n",
    "plt.show()\n",
    "fig.savefig(\"/homes/vn283/UCM-interpret/figures/ff_tc.pdf\", format=\"pdf\", bbox_inches=\"tight\")"
   ]
  },
  {
   "cell_type": "code",
   "execution_count": null,
   "metadata": {},
   "outputs": [],
   "source": []
  }
 ],
 "metadata": {
  "kernelspec": {
   "display_name": "py3_9env",
   "language": "python",
   "name": "python3"
  },
  "language_info": {
   "codemirror_mode": {
    "name": "ipython",
    "version": 3
   },
   "file_extension": ".py",
   "mimetype": "text/x-python",
   "name": "python",
   "nbconvert_exporter": "python",
   "pygments_lexer": "ipython3",
   "version": "3.9.16"
  },
  "orig_nbformat": 4
 },
 "nbformat": 4,
 "nbformat_minor": 2
}

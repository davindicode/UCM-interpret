{
 "cells": [
  {
   "cell_type": "code",
   "execution_count": 10,
   "metadata": {},
   "outputs": [
    {
     "name": "stdout",
     "output_type": "stream",
     "text": [
      "PyTorch version: 1.13.1+cu117\n",
      "Using device: cuda:1\n"
     ]
    }
   ],
   "source": [
    "import numpy as np\n",
    "import scipy as sc\n",
    "\n",
    "import torch\n",
    "import torch.nn as nn\n",
    "from torch.nn.parameter import Parameter\n",
    "import torch.nn.functional as F\n",
    "import torch.optim as optim\n",
    "\n",
    "\n",
    "# add paths to access shared code\n",
    "import sys\n",
    "sys.path.append(\"..\")\n",
    "sys.path.append(\"../scripts/\")\n",
    "\n",
    "# import library implementing models\n",
    "import neuroprob as nprb\n",
    "from neuroprob import utils\n",
    "\n",
    "# import utility code for model building/training/loading\n",
    "import lib\n",
    "import HDC\n",
    "\n",
    "# get GPU device if available\n",
    "gpu_dev = 1\n",
    "dev = utils.pytorch.get_device(gpu=gpu_dev)\n",
    "\n",
    "# use custom plotting settings\n",
    "import matplotlib.pyplot as plt\n",
    "import matplotlib.ticker as ticker\n",
    "plt.style.use('../report_plots/report.mplstyle')\n",
    "\n",
    "# useful colormap\n",
    "white = '#ffffff'\n",
    "red = '#ff0000'\n",
    "blue = '#0000ff'\n",
    "weight_map = utils.plot.make_cmap([blue, white, red], 'weight_map')\n",
    "\n",
    "\n",
    "import warnings\n",
    "warnings.simplefilter('ignore')"
   ]
  },
  {
   "attachments": {},
   "cell_type": "markdown",
   "metadata": {},
   "source": [
    "# Figure 5"
   ]
  },
  {
   "cell_type": "code",
   "execution_count": 11,
   "metadata": {},
   "outputs": [
    {
     "name": "stdout",
     "output_type": "stream",
     "text": [
      "units:  85  hdc units:  22\n"
     ]
    }
   ],
   "source": [
    "mouse_id = 'Mouse12'\n",
    "session_id = '120806'\n",
    "phase = 'wake'\n",
    "subset = 'hdc'\n",
    "\n",
    "bin_size = 20  # ms\n",
    "single_spikes = False\n",
    "\n",
    "delay = 0\n",
    "batch_size = 1000  # size of time segments of each batch in dataset below\n",
    "cv_run = -1\n",
    "\n",
    "\n",
    "checkpoint_dir = '/scratches/ramanujan_2/vn283/HDC_PartIII/checkpoint/'\n",
    "data_dir = '/scratches/ramanujan_2/vn283/HDC_PartIII/preprocessed/' \n",
    "\n",
    "dataset_dict = HDC.get_dataset(mouse_id, session_id, phase, subset, bin_size, \n",
    "                                               single_spikes, path=data_dir)\n",
    "\n",
    "model_dict = {\n",
    "                'seed': 123, \n",
    "                'll_mode': 'U-eq-2',  # stands for universal count model with exponential-quadratic expansion and C = 3\n",
    "                'filt_mode': '',  # GLM couplings\n",
    "                'map_mode': 'svgp-64',  # a sparse variational GP mapping with 64 inducing points\n",
    "                'x_mode': 'hd',  # observed covariates (behaviour)\n",
    "                'z_mode': '',  # latent covariates\n",
    "                'hist_len': 0, \n",
    "                'folds': 5, \n",
    "                'delays': [0], \n",
    "                'neurons': dataset_dict['neurons'], \n",
    "                'max_count': dataset_dict['max_count'], \n",
    "                'bin_size': dataset_dict['bin_size'], \n",
    "                'tbin': dataset_dict['tbin'], \n",
    "                'model_name': dataset_dict['name'], \n",
    "                'tensor_type': torch.float, \n",
    "                'jitter': 1e-4, \n",
    "            }\n",
    "\n",
    "units_used = dataset_dict['neurons']\n",
    "rcov = np.empty((0, dataset_dict['covariates']['hd'].shape[0]))\n",
    "\n",
    "for cov in ['hd', 'omega', 'speed', 'x', 'y', 'time']:\n",
    "    rcov = np.concatenate((rcov, dataset_dict['covariates'][cov][None, :]), axis=0)\n",
    " \n",
    "\n",
    "hd_sweep = torch.linspace(0, 2*np.pi, 100)\n",
    "\n",
    "covariates = torch.cat([\n",
    "    hd_sweep[:, None],  # sweep over head direction\n",
    "    *[rcov[k].mean()*torch.ones((100, 1)) for k in range(1, len(rcov))], \n",
    "    # fill other behavioural covariates at value 0\n",
    "], dim=-1)[None, None, ...]  # (tr, neurons, steps, covariate dims)\n",
    "\n",
    "\n",
    "rcov = dataset_dict['covariates']\n",
    "sweep = torch.linspace(0, 2*torch.pi, 100)[None, :]\n",
    "rcov_matrix = [torch.tensor(rcov[k]) for k in rcov.keys()]"
   ]
  },
  {
   "cell_type": "code",
   "execution_count": 12,
   "metadata": {},
   "outputs": [],
   "source": [
    "delays = [-3, -2, -1, 0, 1, 2, 3]\n",
    "model_dict['delays'] = delays\n",
    "likelihoods = []\n",
    "\n",
    "\n",
    "for i, delay in enumerate(delays):\n",
    "    if i == 3:\n",
    "        continue\n",
    "    modelfit, training_results, fit_set, validation_set = lib.models.load_model(\n",
    "        checkpoint_dir, model_dict, dataset_dict, HDC.enc_used, \n",
    "        delay, cv_run, batch_size, gpu_dev)\n",
    "\n",
    "    ll = lib.helper.RG_pred_ll(\n",
    "                    modelfit, fit_set, neuron_group=None, ll_mode='MC', \n",
    "                    ll_samples=1, cov_samples=1, beta=0.0)\n",
    "    likelihoods.append(ll)"
   ]
  },
  {
   "cell_type": "code",
   "execution_count": 13,
   "metadata": {},
   "outputs": [
    {
     "data": {
      "image/png": "[encoded data removed]",
      "text/plain": [
       "<Figure size 350x140 with 1 Axes>"
      ]
     },
     "metadata": {},
     "output_type": "display_data"
    }
   ],
   "source": [
    "fig, ax = plt.subplots(figsize=(5,2))\n",
    "\n",
    "ax.plot(np.arange(-3, 3), likelihoods)\n",
    "ax.scatter(np.arange(-3, 3), likelihoods)\n",
    "\n",
    "ax.set_ylabel('Log-likelihood')\n",
    "ax.set_xlabel('Delay [ms]')\n",
    "ax.set_xticklabels([0, -60, -40, -20, 0, 20, 40])\n",
    "ax.spines[['right', 'top']].set_visible(False)\n",
    "ax.yaxis.get_major_formatter().set_scientific('%.2e')\n",
    "ax.yaxis.get_major_formatter().set_powerlimits((0,0))\n",
    "ax.yaxis.get_major_formatter().set_useMathText(True)\n",
    "\n",
    "ax.tick_params(axis='x')\n",
    "ax.tick_params(axis='y')\n",
    "\n",
    "fig.savefig(\"/homes/vn283/UCM-interpret/figures/time_delay.pdf\", format=\"pdf\", bbox_inches=\"tight\")"
   ]
  }
 ],
 "metadata": {
  "kernelspec": {
   "display_name": "py3_9env",
   "language": "python",
   "name": "python3"
  },
  "language_info": {
   "codemirror_mode": {
    "name": "ipython",
    "version": 3
   },
   "file_extension": ".py",
   "mimetype": "text/x-python",
   "name": "python",
   "nbconvert_exporter": "python",
   "pygments_lexer": "ipython3",
   "version": "3.9.16"
  },
  "orig_nbformat": 4
 },
 "nbformat": 4,
 "nbformat_minor": 2
}

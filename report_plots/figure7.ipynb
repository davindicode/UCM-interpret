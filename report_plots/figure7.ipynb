{
 "cells": [
  {
   "cell_type": "code",
   "execution_count": 23,
   "metadata": {},
   "outputs": [
    {
     "name": "stdout",
     "output_type": "stream",
     "text": [
      "The autoreload extension is already loaded. To reload it, use:\n",
      "  %reload_ext autoreload\n",
      "PyTorch version: 1.13.1+cu117\n",
      "Using device: cuda:0\n"
     ]
    }
   ],
   "source": [
    "### imports ###\n",
    "%load_ext autoreload\n",
    "\n",
    "import numpy as np\n",
    "import scipy as sc\n",
    "\n",
    "import torch\n",
    "import torch.nn as nn\n",
    "from torch.nn.parameter import Parameter\n",
    "import torch.nn.functional as F\n",
    "import torch.optim as optim\n",
    "\n",
    "\n",
    "import pickle\n",
    "\n",
    "\n",
    "# add paths to access shared code\n",
    "import sys\n",
    "sys.path.append(\"..\")\n",
    "sys.path.append(\"../scripts/\")\n",
    "\n",
    "# import library implementing models\n",
    "import neuroprob as nprb\n",
    "from neuroprob import utils\n",
    "\n",
    "# import utility code for model building/training/loading\n",
    "import lib\n",
    "import HDC\n",
    "\n",
    "# get GPU device if available\n",
    "gpu_dev = 0\n",
    "dev = utils.pytorch.get_device(gpu=gpu_dev)\n",
    "\n",
    "# use custom plotting settings\n",
    "import matplotlib.pyplot as plt\n",
    "import matplotlib.gridspec as gridspec\n",
    "import matplotlib as mpl\n",
    "plt.style.use('../report_plots/report.mplstyle')\n",
    "\n",
    "\n",
    "from sklearn.decomposition import PCA\n",
    "\n",
    "\n",
    "# useful colormap\n",
    "white = '#ffffff'\n",
    "red = '#ff0000'\n",
    "blue = '#0000ff'\n",
    "weight_map = utils.plot.make_cmap([blue, white, red], 'weight_map')"
   ]
  },
  {
   "attachments": {},
   "cell_type": "markdown",
   "metadata": {},
   "source": [
    "# Figure 7"
   ]
  },
  {
   "cell_type": "code",
   "execution_count": 24,
   "metadata": {},
   "outputs": [
    {
     "name": "stdout",
     "output_type": "stream",
     "text": [
      "units:  85  hdc units:  22\n"
     ]
    }
   ],
   "source": [
    "mice_sessions = {'Mouse12': ['120806']}\n",
    "mouse_id = 'Mouse12'\n",
    "session_id = '120806'\n",
    "subset = 'hdc'\n",
    "phase = 'wake'\n",
    "bin_size = 50\n",
    "single_spikes = False\n",
    "data_dir = '/scratches/ramanujan_2/vn283/HDC_PartIII/preprocessed/'\n",
    "\n",
    "dataset_dict = HDC.get_dataset(mouse_id, session_id, phase, subset, bin_size, \n",
    "                                    single_spikes, path=data_dir)\n",
    "\n",
    "checkpoint_dir = '/scratches/ramanujan_2/vn283/HDC_PartIII/checkpoint/'\n",
    "cv_run = -1  # test set is last 1/5 of dataset time series\n",
    "delay = 0\n",
    "batch_size = 500  # size of time segments of each batch in dataset below\n",
    "\n",
    "model_dict = {\n",
    "                'seed': 123, \n",
    "                'll_mode': 'U-qd-3',  # stands for universal count model with exponential-quadratic expansion and C = 3\n",
    "                'filt_mode': '',  # GLM couplings\n",
    "                'map_mode': 'svgp-64',  # a sparse variational GP mapping with 64 inducing points\n",
    "                'x_mode': 'hd-omega-speed-x-y-time',  # observed covariates (behaviour)\n",
    "                'z_mode': '',  # latent covariates\n",
    "                'hist_len': 0, \n",
    "                'folds': 5, \n",
    "                'delays': [0], \n",
    "                'neurons': dataset_dict['neurons'], \n",
    "                'max_count': dataset_dict['max_count'], \n",
    "                'bin_size': dataset_dict['bin_size'], \n",
    "                'tbin': dataset_dict['tbin'], \n",
    "                'model_name': dataset_dict['name'], \n",
    "                'tensor_type': torch.float, \n",
    "                'jitter': 1e-5, \n",
    "            }\n",
    "\n",
    "# model and train/test split based on which validation fold is given by cv_run\n",
    "modelfit, training_results, fit_set, validation_set = lib.models.load_model(\n",
    "    checkpoint_dir, model_dict, dataset_dict, HDC.enc_used, \n",
    "    delay, cv_run, batch_size, gpu_dev\n",
    ")\n"
   ]
  },
  {
   "cell_type": "code",
   "execution_count": 25,
   "metadata": {},
   "outputs": [
    {
     "name": "stdout",
     "output_type": "stream",
     "text": [
      "num of time samples  43775\n",
      "batch  0\n",
      "batch  1\n",
      "batch  2\n",
      "batch  3\n",
      "batch  4\n",
      "batch  5\n",
      "batch  6\n",
      "batch  7\n",
      "batch  8\n",
      "batch  9\n",
      "batch  10\n"
     ]
    }
   ],
   "source": [
    "# 2D search, so there will be steps**2 = 10000 covariate vector inputs\n",
    "rcov = np.empty((0, dataset_dict['covariates']['hd'].shape[0]))\n",
    "\n",
    "for cov in ['hd', 'omega', 'speed', 'x', 'y', 'time']:\n",
    "    rcov = np.concatenate((rcov, dataset_dict['covariates'][cov][None, :]), axis=0)\n",
    " \n",
    "\n",
    "\n",
    "hd_trajectory = torch.tensor(rcov[0])\n",
    "num_samples = list(hd_trajectory.size())[0]\n",
    "print('num of time samples ', num_samples)\n",
    "covariates = torch.cat([\n",
    "    hd_trajectory[:, None],  # sweep over head direction\n",
    "    *[rcov[k].mean() * torch.ones((num_samples, 1)) for k in range(1, len(rcov))],\n",
    "    # fill other behavioural covariates at value 0\n",
    "], dim=-1)[None, None, ...]  # (tr, neurons, steps, covariate dims)\n",
    "\n",
    "# split into chunks of 4000 datapoints\n",
    "chunk_size = 4000\n",
    "chunk_num = int(np.ceil(num_samples / chunk_size))\n",
    "P_mc = None\n",
    "for i in range(chunk_num):\n",
    "    print('batch ', i)\n",
    "    with torch.no_grad():\n",
    "        P_mc_chunk = lib.helper.compute_P(\n",
    "            modelfit, covariates[:,:,i*chunk_size:(i+1)*chunk_size, :], list(range(dataset_dict['neurons'])), MC=30,\n",
    "            trials=1)  # predictive posterior\n",
    "    P_mc_chunk = P_mc_chunk.cpu()  # count probabilities of shape (MC, neurons, steps, count)\n",
    "    if P_mc is None:\n",
    "        P_mc = P_mc_chunk\n",
    "    else:\n",
    "        P_mc = np.concatenate((P_mc, P_mc_chunk), axis=2)\n",
    "\n",
    "K = P_mc.shape[-1]\n",
    "counts = torch.arange(K)\n",
    "hd_mean = (counts[None, None, None, :] * P_mc.astype(float)).sum(-1)  # (MC, neurons, steps)\n",
    "hd_rate = hd_mean / dataset_dict['tbin']  # in units of Hz\n",
    "hd_var = ((counts[None, None, None, :] - hd_mean[:,:,:,None])**2 * P_mc).sum(-1)\n",
    "hd_FF = hd_var / (hd_mean + 1e-12)\n",
    "\n",
    "_, mean, _ = utils.signal.percentiles_from_samples(hd_rate.float(), [0.05, 0.5, 0.95])\n",
    "pca = PCA()\n",
    "activity = torch.transpose(mean, 0, 1)\n",
    "pca.fit(activity)\n",
    "components_mean = pca.transform(activity)\n",
    "\n",
    "_, mean, _ = utils.signal.percentiles_from_samples(hd_FF.float(), [0.05, 0.5, 0.95])\n",
    "pca = PCA()\n",
    "activity = torch.transpose(mean, 0, 1)\n",
    "pca.fit(activity)\n",
    "components_FF = pca.transform(activity)"
   ]
  },
  {
   "cell_type": "code",
   "execution_count": 31,
   "metadata": {},
   "outputs": [
    {
     "name": "stderr",
     "output_type": "stream",
     "text": [
      "/tmp/ipykernel_9217/994711469.py:41: UserWarning: This figure includes Axes that are not compatible with tight_layout, so results might be incorrect.\n",
      "  fig.tight_layout()\n"
     ]
    },
    {
     "data": {
      "image/png": "[encoded data removed]",
      "text/plain": [
       "<Figure size 490x280 with 3 Axes>"
      ]
     },
     "metadata": {},
     "output_type": "display_data"
    }
   ],
   "source": [
    "fig = plt.figure(figsize=(7,4))\n",
    "\n",
    "s=1\n",
    "\n",
    "gs = gridspec.GridSpec(1, 3, figure=fig, wspace=0.7, width_ratios=[12,12,1])\n",
    "\n",
    "ax = fig.add_subplot(gs[0], projection='3d')\n",
    "\n",
    "tuned_angle = dataset_dict['covariates']['hd']\n",
    "\n",
    "p = ax.scatter(components_mean[::2,0], components_mean[::2, 1], components_mean[::2, 2], s=s, c=tuned_angle[::2], cmap='twilight')\n",
    "ax.set_xlabel('PC 1')\n",
    "ax.set_ylabel('PC 2')\n",
    "ax.set_zlabel('PC 3')\n",
    "ax.set_title('Mean response', size=15)\n",
    "\n",
    "\n",
    "ax = fig.add_subplot(gs[1], projection='3d')\n",
    "p = ax.scatter(components_FF[::3,0], components_FF[::3, 1], components_FF[::3, 2], s=s, c=tuned_angle[::3], cmap='twilight')\n",
    "ax.set_xlabel('PC 1')\n",
    "ax.set_ylabel('PC 2')\n",
    "ax.set_zlabel('PC 3')\n",
    "ax.set_title('Fano factor response', size=15)\n",
    "\n",
    "\n",
    "gs1 = gridspec.GridSpecFromSubplotSpec(3, 1, subplot_spec=gs[2], height_ratios=[1,5,1])\n",
    "ax = fig.add_subplot(gs1[1])\n",
    "\n",
    "cmap = mpl.cm.twilight\n",
    "norm = mpl.colors.Normalize(vmin=0, vmax=2*np.pi)\n",
    "\n",
    "cbar = mpl.colorbar.ColorbarBase(ax, cmap=cmap,\n",
    "                                norm=norm,\n",
    "                                orientation='vertical')\n",
    "cbar.set_label('head direction [rad]')\n",
    "\n",
    "cbar.set_ticks([0, np.pi, 2*np.pi])\n",
    "cbar.ax.set_yticklabels(['0', '$\\pi$', '$2\\pi$'])  # vertically oriented colorbar\n",
    "cbar.outline.set_visible(False)\n",
    "\n",
    "fig.tight_layout()\n",
    "\n",
    "fig.savefig(\"/homes/vn283/UCM-interpret/figures/trajectories.pdf\", format=\"pdf\", bbox_inches=\"tight\")"
   ]
  }
 ],
 "metadata": {
  "kernelspec": {
   "display_name": "py3_9env",
   "language": "python",
   "name": "python3"
  },
  "language_info": {
   "codemirror_mode": {
    "name": "ipython",
    "version": 3
   },
   "file_extension": ".py",
   "mimetype": "text/x-python",
   "name": "python",
   "nbconvert_exporter": "python",
   "pygments_lexer": "ipython3",
   "version": "3.9.16"
  },
  "orig_nbformat": 4
 },
 "nbformat": 4,
 "nbformat_minor": 2
}
